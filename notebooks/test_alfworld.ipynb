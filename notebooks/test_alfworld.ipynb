{
 "cells": [
  {
   "cell_type": "code",
   "execution_count": 1,
   "metadata": {},
   "outputs": [],
   "source": [
    "import sys\n",
    "sys.path.append('..')"
   ]
  },
  {
   "cell_type": "code",
   "execution_count": 2,
   "metadata": {},
   "outputs": [],
   "source": [
    "%load_ext autoreload\n",
    "%autoreload 2"
   ]
  },
  {
   "cell_type": "code",
   "execution_count": 3,
   "metadata": {},
   "outputs": [
    {
     "name": "stderr",
     "output_type": "stream",
     "text": [
      "/home/carlenovo/CS5242Proj/LLMZero/venv/lib/python3.9/site-packages/sentence_transformers/cross_encoder/CrossEncoder.py:13: TqdmWarning: IProgress not found. Please update jupyter and ipywidgets. See https://ipywidgets.readthedocs.io/en/stable/user_install.html\n",
      "  from tqdm.autonotebook import tqdm, trange\n"
     ]
    }
   ],
   "source": [
    "import numpy as np\n",
    "from environments.ALFWorldEnvironment import ALFWorldEnvironment\n",
    "from agents.alfworld_llm_policy import ALFWorldLLMPolicyAgent\n",
    "from agents.alfworld_llmzero import ALFWorldLLMZeroAgent"
   ]
  },
  {
   "cell_type": "markdown",
   "metadata": {},
   "source": [
    "# LLM Policy"
   ]
  },
  {
   "cell_type": "code",
   "execution_count": 4,
   "metadata": {},
   "outputs": [
    {
     "name": "stdout",
     "output_type": "stream",
     "text": [
      "Initializing AlfredTWEnv...\n"
     ]
    },
    {
     "name": "stderr",
     "output_type": "stream",
     "text": [
      "100%|██████████| 1/1 [00:00<00:00, 646.27it/s]"
     ]
    },
    {
     "name": "stdout",
     "output_type": "stream",
     "text": [
      "Overall we have 1 games in split=train\n",
      "Training with 1 games\n"
     ]
    },
    {
     "name": "stderr",
     "output_type": "stream",
     "text": [
      "\n"
     ]
    }
   ],
   "source": [
    "env = ALFWorldEnvironment(config_path='../configs/alfworld_env.yaml')\n",
    "agent = ALFWorldLLMPolicyAgent(env, device=\"cuda\", debug=False, env_params={ \"system_prompt_path\": \"../prompts/prompt_alfworld_policy.txt\" }, save_buffer_interval=100)"
   ]
  },
  {
   "cell_type": "code",
   "execution_count": 5,
   "metadata": {},
   "outputs": [
    {
     "name": "stdout",
     "output_type": "stream",
     "text": [
      "-= Welcome to TextWorld, ALFRED! =-\n",
      "\n",
      "You are in the middle of a room. Looking quickly around you, you see a armchair 1, a bed 1, a cabinet 4, a cabinet 3, a cabinet 2, a cabinet 1, a drawer 6, a drawer 5, a drawer 4, a drawer 3, a drawer 2, a drawer 1, a dresser 1, a garbagecan 1, a sidetable 2, and a sidetable 1.\n",
      "\n",
      "Your task is to: put a cellphone in bed.\n",
      "['go to armchair 1', 'go to bed 1', 'go to cabinet 1', 'go to cabinet 2', 'go to cabinet 3', 'go to cabinet 4', 'go to drawer 1', 'go to drawer 2', 'go to drawer 3', 'go to drawer 4', 'go to drawer 5', 'go to drawer 6', 'go to dresser 1', 'go to garbagecan 1', 'go to sidetable 1', 'go to sidetable 2', 'inventory', 'look']\n"
     ]
    }
   ],
   "source": [
    "state, _ = env.reset()\n",
    "\n",
    "valid_actions_text = env.get_valid_actions_text(state)\n",
    "state_text = env.state_to_text(state)\n",
    "print(state_text)\n",
    "print(valid_actions_text)"
   ]
  },
  {
   "cell_type": "code",
   "execution_count": 6,
   "metadata": {},
   "outputs": [
    {
     "name": "stdout",
     "output_type": "stream",
     "text": [
      "['go to armchair 1', 'go to bed 1', 'go to cabinet 1', 'go to cabinet 2', 'go to cabinet 3', 'go to cabinet 4', 'go to drawer 1', 'go to drawer 2', 'go to drawer 3', 'go to drawer 4', 'go to drawer 5', 'go to drawer 6', 'go to dresser 1', 'go to garbagecan 1', 'go to sidetable 1', 'go to sidetable 2', 'inventory', 'look']\n",
      "[2.1824786e-02 2.4233224e-02 1.6378373e-02 1.2040823e-02 8.2198270e-03\n",
      " 5.6722960e-03 1.8627536e-02 1.5834114e-02 1.2858202e-02 1.1313704e-02\n",
      " 9.4612231e-03 7.4650673e-03 2.1822326e-02 8.6408770e-03 4.2228645e-01\n",
      " 3.8256669e-01 1.0908217e-04 6.4548216e-04]\n",
      "go to sidetable 1\n"
     ]
    }
   ],
   "source": [
    "dist = agent.get_action_distribution(state)\n",
    "print(valid_actions_text)\n",
    "print(dist)\n",
    "print(valid_actions_text[np.argmax(dist)])"
   ]
  },
  {
   "cell_type": "code",
   "execution_count": 9,
   "metadata": {},
   "outputs": [
    {
     "name": "stdout",
     "output_type": "stream",
     "text": [
      "You open the drawer 2. The drawer 2 is open. In it, you see a creditcard 2.\n",
      "['close drawer 2', 'examine drawer 2', 'go to bed 1', 'go to desk 1', 'go to drawer 1', 'go to drawer 3', 'go to garbagecan 1', 'go to safe 1', 'go to shelf 1', 'go to shelf 2', 'go to shelf 3', 'go to shelf 4', 'go to shelf 5', 'go to sidetable 1', 'go to sidetable 2', 'inventory', 'look', 'take creditcard 2 from drawer 2']\n"
     ]
    }
   ],
   "source": [
    "state, _, _, _, _ = env.step('open drawer 2')\n",
    "valid_actions_text = env.get_valid_actions_text(state)\n",
    "state_text = env.state_to_text(state)\n",
    "print(state_text)\n",
    "print(valid_actions_text)"
   ]
  },
  {
   "cell_type": "markdown",
   "metadata": {},
   "source": [
    "# LLM Zero"
   ]
  },
  {
   "cell_type": "code",
   "execution_count": 64,
   "metadata": {},
   "outputs": [
    {
     "name": "stdout",
     "output_type": "stream",
     "text": [
      "Initializing AlfredTWEnv...\n"
     ]
    },
    {
     "name": "stderr",
     "output_type": "stream",
     "text": [
      "100%|██████████| 1/1 [00:00<00:00, 697.77it/s]"
     ]
    },
    {
     "name": "stdout",
     "output_type": "stream",
     "text": [
      "Overall we have 1 games in split=train\n",
      "Training with 1 games\n"
     ]
    },
    {
     "name": "stderr",
     "output_type": "stream",
     "text": [
      "\n"
     ]
    },
    {
     "name": "stdout",
     "output_type": "stream",
     "text": [
      "Error saving prompt buffer: [Errno 2] No such file or directory: 'prompt_buffer/alfworld_transition_20241122_045541.pkl'\n",
      "Prompt buffer saved to prompt_buffer/alfworld_transition_20241122_045541.pkl\n"
     ]
    }
   ],
   "source": [
    "env = ALFWorldEnvironment(config_path='../configs/alfworld_env.yaml')\n",
    "cfg = {\n",
    "        \"llm_policy\": {\n",
    "            \"env_params\": {\n",
    "                \"system_prompt_path\": \"../prompts/prompt_alfworld_policy.txt\",\n",
    "                \"extract_action_regex\": r\"optimal action: (.*)\",\n",
    "            },\n",
    "            \"load_prompt_buffer_path\": None, # update this path to the path of the saved prompt buffer\n",
    "            \"prompt_buffer_prefix\": \"prompt_buffer/alfworld_policy\",\n",
    "            \"save_buffer_interval\": 100,\n",
    "            \"overwrite_prompt_buffer\": False\n",
    "        } ,\n",
    "        \"llm_transition\": {\n",
    "            \"env_params\": {\n",
    "                \"system_prompt_path\": \"../prompts/prompt_alfworld_transition.txt\",\n",
    "                \"extract_state_regex\": r\"next state:(.*?)```\",\n",
    "                \"extract_state_regex_fallback\": [r\"next state:(.*)\", r\"```plaintext(.*)```\", r\"\\*\\*Next State\\*\\*:\\n(.*)\"],\n",
    "                \"extract_action_regex\": r\"valid actions:\\n?(.*?)\\n?```\",\n",
    "                \"extract_action_regex_fallback\": [r\"valid actions:\\n?(.*)\", r\"```plaintext(.*)```\", r\"\\*\\*Valid Actions\\*\\*:\\n(.*)\"],\n",
    "            },\n",
    "            \"load_prompt_buffer_path\": None, # update this path to the path of the saved prompt buffer\n",
    "            \"prompt_buffer_prefix\": \"prompt_buffer/alfworld_transition\",\n",
    "            \"save_buffer_interval\": 100,\n",
    "            \"overwrite_prompt_buffer\": False\n",
    "        },\n",
    "        \"llm_reward\": {\n",
    "            \"env_params\": {\n",
    "                \"system_prompt_path\": \"../prompts/prompt_alfworld_reward.txt\",\n",
    "                \"extract_reward_regex\": r\"TOTAL_REWARD_FINAL = (-?\\d+)\", # only use the first match, same line\n",
    "                \"extract_reward_regex_fallback\": [],\n",
    "                \"extract_done_regex\": r\"done: (.*)\",\n",
    "                \"extract_done_regex_fallback\": [r\"done: (.*)\"],\n",
    "            },\n",
    "            \"load_prompt_buffer_path\": None, # update this path to the path of the saved prompt buffer\n",
    "            \"prompt_buffer_prefix\": \"prompt_buffer/alfworld_reward\",\n",
    "            \"save_buffer_interval\": 100,\n",
    "            \"overwrite_prompt_buffer\": False\n",
    "        },\n",
    "        \"llm_value\": {\n",
    "            \"env_params\": {\n",
    "                \"system_prompt_path\": \"../prompts/prompt_alfworld_value.txt\",\n",
    "                \"extract_value_regex\": r\"\\\\boxed\\{(-?\\d*\\.?\\d+)\\}\",\n",
    "                \"extract_value_regex_fallback\": [],\n",
    "            },\n",
    "            \"load_prompt_buffer_path\": None, # update this path to the path of the saved prompt buffer\n",
    "            \"prompt_buffer_prefix\": \"prompt_buffer/alfworld_value\",\n",
    "            \"save_buffer_interval\": 100,\n",
    "            \"overwrite_prompt_buffer\": False\n",
    "        }\n",
    "}\n",
    "llmzero = ALFWorldLLMZeroAgent(env, cfg=cfg)"
   ]
  },
  {
   "cell_type": "markdown",
   "metadata": {},
   "source": [
    "### Value"
   ]
  },
  {
   "cell_type": "code",
   "execution_count": 115,
   "metadata": {},
   "outputs": [],
   "source": [
    "state, _ = env.reset()"
   ]
  },
  {
   "cell_type": "code",
   "execution_count": 116,
   "metadata": {},
   "outputs": [
    {
     "name": "stdout",
     "output_type": "stream",
     "text": [
      "-= Welcome to TextWorld, ALFRED! =-\n",
      "\n",
      "You are in the middle of a room. Looking quickly around you, you see a bathtubbasin 1, a cabinet 4, a cabinet 3, a cabinet 2, a cabinet 1, a countertop 1, a drawer 4, a drawer 3, a drawer 2, a drawer 1, a dresser 1, a garbagecan 1, a handtowelholder 1, a sinkbasin 2, a sinkbasin 1, a toilet 1, a toiletpaperhanger 1, and a towelholder 1.\n",
      "\n",
      "Your task is to: put a candle in toilet.\n",
      "['go to bathtubbasin 1', 'go to cabinet 1', 'go to cabinet 2', 'go to cabinet 3', 'go to cabinet 4', 'go to countertop 1', 'go to drawer 1', 'go to drawer 2', 'go to drawer 3', 'go to drawer 4', 'go to dresser 1', 'go to garbagecan 1', 'go to handtowelholder 1', 'go to sinkbasin 1', 'go to sinkbasin 2', 'go to toilet 1', 'go to toiletpaperhanger 1', 'go to towelholder 1', 'inventory', 'look']\n"
     ]
    }
   ],
   "source": [
    "valid_actions_text = env.get_valid_actions_text(state)\n",
    "state_text = env.state_to_text(state)\n",
    "print(state_text)\n",
    "print(valid_actions_text)"
   ]
  },
  {
   "cell_type": "code",
   "execution_count": 121,
   "metadata": {},
   "outputs": [
    {
     "name": "stdout",
     "output_type": "stream",
     "text": [
      "--------------------------------------\n",
      "\n",
      "State: -= Welcome to TextWorld, ALFRED! =-\n",
      "\n",
      "You are in the middle of a room. Looking quickly around you, you see a bathtubbasin 1, a cabinet 4, a cabinet 3, a cabinet 2, a cabinet 1, a countertop 1, a drawer 4, a drawer 3, a drawer 2, a drawer 1, a dresser 1, a garbagecan 1, a handtowelholder 1, a sinkbasin 2, a sinkbasin 1, a toilet 1, a toiletpaperhanger 1, and a towelholder 1.\n",
      "\n",
      "Your task is to: put a candle in toilet.\n",
      "Action: go to cabinet 4\n",
      "\n",
      "\n",
      "State: You arrive at loc 10. The cabinet 4 is closed.\n",
      "Action: go to dresser 1\n",
      "\n",
      "\n",
      "State: You arrive at loc 20. On the dresser 1, you see a spraybottle 1.\n",
      "Action: go to cabinet 2\n",
      "\n",
      "\n",
      "State: You arrive at loc 12. The cabinet 2 is closed.\n",
      "Action: open cabinet 2\n",
      "\n",
      "\n",
      "State: You open the cabinet 2. The cabinet 2 is open. In it, you see a soapbar 2.\n",
      "\n",
      "\n",
      "**Steps**:\n",
      "1. The task is to put a candle in the toilet. The goal is not reached as the object has not been placed yet. Move to step 2.\n",
      "2. The target object (candle) has not been picked up yet by the agent. Move to step 3.\n",
      "3. The target object is not visible in the latest state (cabinets and dresser). Move to step 4.\n",
      "4. The target object has not yet been seen in any previous state. Move to step 5.\n",
      "5. The agent has visited 4 unique states: the initial state in the middle of the room, cabinet 4 (closed), dresser 1 (seeing a spraybottle), and cabinet 2 (opened).\n",
      "\n",
      "Calculating the value based on the number of unique states visited:\n",
      "- Value = min(0.05 * (4 unique states), 0.5) = min(0.2, 0.5) = 0.2.\n",
      "\n",
      "```plaintext\n",
      "FINAL_VALUE=0.2\n",
      "```\n",
      "0.2\n"
     ]
    }
   ],
   "source": [
    "state_history, action_history = env.get_state_and_action_history()\n",
    "value, _ = llmzero.value_model.get_value(state, state_history, action_history)\n",
    "print(value)"
   ]
  },
  {
   "cell_type": "code",
   "execution_count": 120,
   "metadata": {},
   "outputs": [
    {
     "name": "stdout",
     "output_type": "stream",
     "text": [
      "You open the cabinet 2. The cabinet 2 is open. In it, you see a soapbar 2.\n",
      "['close cabinet 2', 'examine cabinet 2', 'examine garbagecan 1', 'go to bathtubbasin 1', 'go to cabinet 1', 'go to cabinet 3', 'go to cabinet 4', 'go to countertop 1', 'go to drawer 1', 'go to drawer 2', 'go to drawer 3', 'go to drawer 4', 'go to dresser 1', 'go to handtowelholder 1', 'go to sinkbasin 1', 'go to sinkbasin 2', 'go to toilet 1', 'go to toiletpaperhanger 1', 'go to towelholder 1', 'inventory', 'look', 'take soapbar 2 from cabinet 2', 'take soapbottle 2 from garbagecan 1', 'take toiletpaper 2 from garbagecan 1']\n"
     ]
    }
   ],
   "source": [
    "state, _, _, _, _ = env.step('open cabinet 2')\n",
    "valid_actions_text = env.get_valid_actions_text(state)\n",
    "state_text = env.state_to_text(state)\n",
    "print(state_text)\n",
    "print(valid_actions_text)"
   ]
  },
  {
   "cell_type": "markdown",
   "metadata": {},
   "source": [
    "### Transition"
   ]
  },
  {
   "cell_type": "code",
   "execution_count": 57,
   "metadata": {},
   "outputs": [],
   "source": [
    "state, _ = env.reset()"
   ]
  },
  {
   "cell_type": "code",
   "execution_count": 58,
   "metadata": {},
   "outputs": [
    {
     "name": "stdout",
     "output_type": "stream",
     "text": [
      "-= Welcome to TextWorld, ALFRED! =-\n",
      "\n",
      "You are in the middle of a room. Looking quickly around you, you see a armchair 1, a bed 1, a cabinet 4, a cabinet 3, a cabinet 2, a cabinet 1, a drawer 6, a drawer 5, a drawer 4, a drawer 3, a drawer 2, a drawer 1, a dresser 1, a garbagecan 1, a sidetable 2, and a sidetable 1.\n",
      "\n",
      "Your task is to: put a cellphone in bed.\n",
      "['go to armchair 1', 'go to bed 1', 'go to cabinet 1', 'go to cabinet 2', 'go to cabinet 3', 'go to cabinet 4', 'go to drawer 1', 'go to drawer 2', 'go to drawer 3', 'go to drawer 4', 'go to drawer 5', 'go to drawer 6', 'go to dresser 1', 'go to garbagecan 1', 'go to sidetable 1', 'go to sidetable 2', 'inventory', 'look']\n"
     ]
    }
   ],
   "source": [
    "valid_actions_text = env.get_valid_actions_text(state)\n",
    "state_text = env.state_to_text(state)\n",
    "print(state_text)\n",
    "print(valid_actions_text)"
   ]
  },
  {
   "cell_type": "code",
   "execution_count": 59,
   "metadata": {},
   "outputs": [
    {
     "name": "stdout",
     "output_type": "stream",
     "text": [
      "You arrive at loc 1. On the drawer 6, you see nothing.\n",
      "['examine drawer 6', 'go to armchair 1', 'go to bed 1', 'go to cabinet 1', 'go to cabinet 2', 'go to cabinet 3', 'go to cabinet 4', 'go to drawer 1', 'go to drawer 2', 'go to drawer 3', 'go to drawer 4', 'go to drawer 5', 'go to dresser 1', 'go to garbagecan 1', 'go to sidetable 1', 'go to sidetable 2', 'inventory', 'look']\n"
     ]
    }
   ],
   "source": [
    "action = 'go to drawer 6'\n",
    "state, _, _, _, _ = env.step(action)\n",
    "\n",
    "valid_actions_text = env.get_valid_actions_text(state)\n",
    "state_text = env.state_to_text(state)\n",
    "print(state_text)\n",
    "print(valid_actions_text)"
   ]
  },
  {
   "cell_type": "code",
   "execution_count": 60,
   "metadata": {},
   "outputs": [
    {
     "data": {
      "text/plain": [
       "{'text_state': 'You arrive at loc 1. On the drawer 6, you see nothing.',\n",
       " 'valid_actions': ['examine drawer 6',\n",
       "  'go to armchair 1',\n",
       "  'go to bed 1',\n",
       "  'go to cabinet 1',\n",
       "  'go to cabinet 2',\n",
       "  'go to cabinet 3',\n",
       "  'go to cabinet 4',\n",
       "  'go to drawer 1',\n",
       "  'go to drawer 2',\n",
       "  'go to drawer 3',\n",
       "  'go to drawer 4',\n",
       "  'go to drawer 5',\n",
       "  'go to dresser 1',\n",
       "  'go to garbagecan 1',\n",
       "  'go to sidetable 1',\n",
       "  'go to sidetable 2',\n",
       "  'inventory',\n",
       "  'look']}"
      ]
     },
     "execution_count": 60,
     "metadata": {},
     "output_type": "execute_result"
    }
   ],
   "source": [
    "state"
   ]
  },
  {
   "cell_type": "code",
   "execution_count": 61,
   "metadata": {},
   "outputs": [],
   "source": [
    "pred_state = {'text_state': 'You arrive at loc 1. On the drawer 6, you see nothing.',\n",
    " 'valid_actions': ['examine drawer 6',\n",
    "  'go to armchair 1',\n",
    "  'go to bed 1',\n",
    "  'go to cabinet 1',\n",
    "  'go to cabinet 2',\n",
    "  'go to cabinet 3',\n",
    "  'go to cabinet 4',\n",
    "  'go to drawer 1',\n",
    "  'go to drawer 2',\n",
    "  'go to drawer 3',\n",
    "  'go to drawer 4',\n",
    "  'go to drawer 5',\n",
    "  'go to dresser 1',\n",
    "  'go to garbagecan 1',\n",
    "  'go to sidetable 1',\n",
    "  'go to sidetable 2',\n",
    "  'inventory',\n",
    "  'look']}\n",
    "pred_action = 'examine drawer 6'"
   ]
  },
  {
   "cell_type": "code",
   "execution_count": 62,
   "metadata": {},
   "outputs": [
    {
     "name": "stdout",
     "output_type": "stream",
     "text": [
      "\n",
      "**State**: -= Welcome to TextWorld, ALFRED! =-\n",
      "\n",
      "You are in the middle of a room. Looking quickly around you, you see a armchair 1, a bed 1, a cabinet 4, a cabinet 3, a cabinet 2, a cabinet 1, a drawer 6, a drawer 5, a drawer 4, a drawer 3, a drawer 2, a drawer 1, a dresser 1, a garbagecan 1, a sidetable 2, and a sidetable 1.\n",
      "\n",
      "Your task is to: put a cellphone in bed.\n",
      "**Valid actions**: go to armchair 1, go to bed 1, go to cabinet 1, go to cabinet 2, go to cabinet 3, go to cabinet 4, go to drawer 1, go to drawer 2, go to drawer 3, go to drawer 4, go to drawer 5, go to drawer 6, go to dresser 1, go to garbagecan 1, go to sidetable 1, go to sidetable 2, inventory, look\n",
      "**Action**: go to drawer 6\n",
      "\n",
      "\n",
      "**State**: You arrive at loc 1. On the drawer 6, you see nothing.\n",
      "**Valid actions**: examine drawer 6, go to armchair 1, go to bed 1, go to cabinet 1, go to cabinet 2, go to cabinet 3, go to cabinet 4, go to drawer 1, go to drawer 2, go to drawer 3, go to drawer 4, go to drawer 5, go to dresser 1, go to garbagecan 1, go to sidetable 1, go to sidetable 2, inventory, look\n",
      "**Action**: examine drawer 6\n",
      "\n",
      "\n"
     ]
    }
   ],
   "source": [
    "def append_state_action_to_prompt(prompt, s, a):\n",
    "    prompt += \"\\n**State**: \"\n",
    "    prompt += s['text_state']\n",
    "    prompt += \"\\n**Valid actions**: \"\n",
    "    prompt += ', '.join(s['valid_actions'])\n",
    "    prompt += \"\\n**Action**: \"\n",
    "    prompt += a\n",
    "    prompt += \"\\n\\n\"\n",
    "    return prompt\n",
    "\n",
    "# construct user prompt\n",
    "state_history, action_history = env.get_state_and_action_history()\n",
    "user_prompt = \"\"\n",
    "for s_h, a_h in zip(state_history, action_history):\n",
    "    user_prompt = append_state_action_to_prompt(user_prompt, s_h, a_h)\n",
    "user_prompt = append_state_action_to_prompt(user_prompt, pred_state, pred_action)\n",
    "print(user_prompt)"
   ]
  },
  {
   "cell_type": "code",
   "execution_count": 63,
   "metadata": {},
   "outputs": [
    {
     "name": "stdout",
     "output_type": "stream",
     "text": [
      "{'text_state': ' On the drawer 6, you see nothing.\\n', 'valid_actions': ['examine drawer 6', 'go to armchair 1', 'go to bed 1', 'go to cabinet 1', 'go to cabinet 2', 'go to cabinet 3', 'go to cabinet 4', 'go to drawer 1', 'go to drawer 2', 'go to drawer 3', 'go to drawer 4', 'go to drawer 5', 'go to dresser 1', 'go to garbagecan 1', 'go to sidetable 1', 'go to sidetable 2', 'inventory', 'look']}\n"
     ]
    }
   ],
   "source": [
    "# Prediction\n",
    "llm_state, _ = llmzero.transition_model.get_next_state(pred_state, pred_action, state_history, action_history)\n",
    "print(llm_state)"
   ]
  },
  {
   "cell_type": "code",
   "execution_count": 145,
   "metadata": {},
   "outputs": [
    {
     "name": "stdout",
     "output_type": "stream",
     "text": [
      " You open the cabinet 2. The cabinet 2 is open. In it, you see a soapbottle 2, a candle 1, and a sponge 1.\n",
      "\n",
      "['close cabinet 2', 'examine cabinet 2', 'go to bathtubbasin 1', 'go to cabinet 1', 'go to cabinet 3', 'go to cabinet 4', 'go to countertop 1', 'go to drawer 1', 'go to drawer 2', 'go to drawer 3', 'go to drawer 4', 'go to dresser 1', 'go to handtowelholder 1', 'go to sinkbasin 1', 'go to sinkbasin 2', 'go to toilet 1', 'go to toiletpaperhanger 1', 'go to towelholder 1', 'inventory', 'look', 'take soapbottle 2 from cabinet 2', 'take candle 1 from cabinet 2', 'take sponge 1 from cabinet 2']\n"
     ]
    }
   ],
   "source": [
    "valid_actions_text = env.get_valid_actions_text(llm_state)\n",
    "state_text = env.state_to_text(llm_state)\n",
    "print(state_text)\n",
    "print(valid_actions_text)"
   ]
  },
  {
   "cell_type": "code",
   "execution_count": 35,
   "metadata": {},
   "outputs": [
    {
     "name": "stdout",
     "output_type": "stream",
     "text": [
      "The drawer 2 is closed.\n",
      "['examine drawer 2', 'go to armchair 1', 'go to bed 1', 'go to cabinet 1', 'go to cabinet 2', 'go to cabinet 3', 'go to cabinet 4', 'go to drawer 1', 'go to drawer 3', 'go to drawer 4', 'go to drawer 5', 'go to drawer 6', 'go to dresser 1', 'go to garbagecan 1', 'go to sidetable 1', 'go to sidetable 2', 'inventory', 'look', 'open drawer 2']\n"
     ]
    }
   ],
   "source": [
    "# Actual Value\n",
    "actual_state, _, _, _, _ = env.step(pred_action)\n",
    "\n",
    "valid_actions_text = env.get_valid_actions_text(actual_state)\n",
    "state_text = env.state_to_text(actual_state)\n",
    "print(state_text)\n",
    "print(valid_actions_text)"
   ]
  },
  {
   "cell_type": "markdown",
   "metadata": {},
   "source": [
    "### Reward"
   ]
  },
  {
   "cell_type": "code",
   "execution_count": 34,
   "metadata": {},
   "outputs": [
    {
     "name": "stdout",
     "output_type": "stream",
     "text": [
      "-= Welcome to TextWorld, ALFRED! =-\n",
      "\n",
      "You are in the middle of a room. Looking quickly around you, you see a bed 1, a desk 1, a drawer 2, a drawer 1, a garbagecan 1, a shelf 8, a shelf 7, a shelf 6, a shelf 5, a shelf 4, a shelf 3, a shelf 2, a shelf 1, and a sidetable 1.\n",
      "\n",
      "Your task is to: put a book in bed.\n",
      "['go to bed 1', 'go to desk 1', 'go to drawer 1', 'go to drawer 2', 'go to garbagecan 1', 'go to shelf 1', 'go to shelf 2', 'go to shelf 3', 'go to shelf 4', 'go to shelf 5', 'go to shelf 6', 'go to shelf 7', 'go to shelf 8', 'go to sidetable 1', 'inventory', 'look']\n"
     ]
    }
   ],
   "source": [
    "state, _ = env.reset()\n",
    "valid_actions_text = env.get_valid_actions_text(state)\n",
    "state_text = env.state_to_text(state)\n",
    "print(state_text)\n",
    "print(valid_actions_text)"
   ]
  },
  {
   "cell_type": "code",
   "execution_count": 42,
   "metadata": {},
   "outputs": [
    {
     "name": "stdout",
     "output_type": "stream",
     "text": [
      "You arrive at loc 15. On the desk 1, you see a book 1.\n",
      "['examine desk 1', 'go to bed 1', 'go to drawer 1', 'go to drawer 2', 'go to garbagecan 1', 'go to shelf 1', 'go to shelf 2', 'go to shelf 3', 'go to shelf 4', 'go to shelf 5', 'go to shelf 6', 'go to shelf 7', 'go to shelf 8', 'go to sidetable 1', 'inventory', 'look', 'take book 1 from desk 1']\n"
     ]
    }
   ],
   "source": [
    "action = 'go to desk 1'\n",
    "state, _, _, _, _ = env.step(action)\n",
    "\n",
    "valid_actions_text = env.get_valid_actions_text(state)\n",
    "state_text = env.state_to_text(state)\n",
    "print(state_text)\n",
    "print(valid_actions_text)"
   ]
  },
  {
   "cell_type": "code",
   "execution_count": 43,
   "metadata": {},
   "outputs": [
    {
     "name": "stdout",
     "output_type": "stream",
     "text": [
      "\n",
      "State: -= Welcome to TextWorld, ALFRED! =-\n",
      "\n",
      "You are in the middle of a room. Looking quickly around you, you see a bed 1, a desk 1, a drawer 2, a drawer 1, a garbagecan 1, a shelf 8, a shelf 7, a shelf 6, a shelf 5, a shelf 4, a shelf 3, a shelf 2, a shelf 1, and a sidetable 1.\n",
      "\n",
      "Your task is to: put a book in bed.\n",
      "Action: go to desk 1\n",
      "\n",
      "State: You arrive at loc 15. On the desk 1, you see a book 1.\n",
      "Action: go to bed 1\n",
      "\n",
      "State: You arrive at loc 14. On the bed 1, you see a laptop 1, a pillow 2, and a pillow 1.\n",
      "Action: go to desk 1\n",
      "\n",
      "State: You arrive at loc 15. On the desk 1, you see a book 1.\n",
      "Action: go to desk 1\n",
      "\n",
      "State: Nothing happens.\n",
      "Action: go to bed 1\n",
      "\n",
      "State: You arrive at loc 14. On the bed 1, you see a laptop 1, a pillow 2, and a pillow 1.\n",
      "Action: go to desk 1\n",
      "\n",
      "State: You arrive at loc 15. On the desk 1, you see a book 1.\n",
      "\n",
      "**Steps**:\n",
      "1. The goal is to put **book** in **bed**. The book is not in the bed. Goal not reached, IS_TERMINAL=False. Move to step 2.\n",
      "2. We did not pick up the **book** in the latest state. Move to step 3.\n",
      "3. **book** was discovered in a previous state which is not the latest state. TOTAL_REWARD_FINAL=-0.1.\n",
      "\n",
      "**Output**:\n",
      "```plaintext\n",
      "TOTAL_REWARD_FINAL=-0.1\n",
      "IS_TERMINAL=False\n",
      "```\n"
     ]
    }
   ],
   "source": [
    "state_history, action_history = env.get_state_and_action_history()\n",
    "reward, done, _ = llmzero.reward_model.get_reward_done(state, state_history, action_history)\n",
    "# print(reward)\n",
    "# print(done)"
   ]
  },
  {
   "cell_type": "code",
   "execution_count": null,
   "metadata": {},
   "outputs": [],
   "source": []
  }
 ],
 "metadata": {
  "kernelspec": {
   "display_name": "venv",
   "language": "python",
   "name": "python3"
  },
  "language_info": {
   "codemirror_mode": {
    "name": "ipython",
    "version": 3
   },
   "file_extension": ".py",
   "mimetype": "text/x-python",
   "name": "python",
   "nbconvert_exporter": "python",
   "pygments_lexer": "ipython3",
   "version": "3.9.20"
  }
 },
 "nbformat": 4,
 "nbformat_minor": 2
}
