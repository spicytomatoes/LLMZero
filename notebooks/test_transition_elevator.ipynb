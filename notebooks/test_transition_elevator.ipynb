{
 "cells": [
  {
   "cell_type": "markdown",
   "metadata": {},
   "source": [
    "# Test accuracy of LLM Transition Model"
   ]
  },
  {
   "cell_type": "code",
   "execution_count": 1,
   "metadata": {},
   "outputs": [],
   "source": [
    "#enable autoreload\n",
    "%load_ext autoreload\n",
    "%autoreload 2"
   ]
  },
  {
   "cell_type": "code",
   "execution_count": 2,
   "metadata": {},
   "outputs": [
    {
     "name": "stderr",
     "output_type": "stream",
     "text": [
      "c:\\Users\\ianch\\miniconda3\\envs\\aiplanning\\Lib\\site-packages\\pyRDDLGym\\Elevator.py:8: UserWarning: cv2 is not installed: save_as_mp4 option will be disabled.\n",
      "  from pyRDDLGym.Visualizer.MovieGenerator import MovieGenerator\n",
      "c:\\Users\\ianch\\miniconda3\\envs\\aiplanning\\Lib\\site-packages\\sentence_transformers\\cross_encoder\\CrossEncoder.py:13: TqdmWarning: IProgress not found. Please update jupyter and ipywidgets. See https://ipywidgets.readthedocs.io/en/stable/user_install.html\n",
      "  from tqdm.autonotebook import tqdm, trange\n"
     ]
    }
   ],
   "source": [
    "import sys\n",
    "\n",
    "sys.path.append('..')\n",
    "\n",
    "from environments.ElevatorEnvironment import ElevatorEnvironment\n",
    "from agents.llmzero import LLMTransitionModel\n",
    "from agents.random_agent import RandomAgent\n",
    "from agents.elevator_expert import ElevatorExpertPolicyAgent\n",
    "\n",
    "import numpy as np\n",
    "import random\n",
    "import matplotlib.pyplot as plt"
   ]
  },
  {
   "cell_type": "markdown",
   "metadata": {},
   "source": [
    "Load default elevator environment"
   ]
  },
  {
   "cell_type": "code",
   "execution_count": 3,
   "metadata": {},
   "outputs": [
    {
     "name": "stdout",
     "output_type": "stream",
     "text": [
      "c:\\Users\\ianch\\miniconda3\\envs\\aiplanning\\Lib\\site-packages\\pyRDDLGym\\Examples c:\\Users\\ianch\\miniconda3\\envs\\aiplanning\\Lib\\site-packages\\pyRDDLGym\\Examples\\manifest.csv\n",
      "Available example environment(s):\n",
      "CartPole_continuous -> A simple continuous state-action MDP for the classical cart-pole system by Rich Sutton, with actions that describe the continuous force applied to the cart.\n",
      "CartPole_discrete -> A simple continuous state MDP for the classical cart-pole system by Rich Sutton, with discrete actions that apply a constant force on either the left or right side of the cart.\n",
      "Elevators -> The Elevator domain models evening rush hours when people from different floors in a building want to go down to the bottom floor using elevators.\n",
      "HVAC -> Multi-zone and multi-heater HVAC control problem\n",
      "MarsRover -> Multi Rover Navigation, where a group of agent needs to harvest mineral.\n",
      "MountainCar -> A simple continuous MDP for the classical mountain car control problem.\n",
      "NewLanguage -> Example with new language features.\n",
      "NewtonZero -> Example with Newton root-finding method.\n",
      "PowerGen_continuous -> A continuous simple power generation problem loosely modeled on the problem of unit commitment.\n",
      "PowerGen_discrete -> A simple power generation problem loosely modeled on the problem of unit commitment.\n",
      "PropDBN -> Simple propositional DBN.\n",
      "RaceCar -> A simple continuous MDP for the racecar problem.\n",
      "RecSim -> A problem of recommendation systems, with consumers and providers.\n",
      "Reservoir_continuous -> Continuous action version of management of the water level in interconnected reservoirs.\n",
      "Reservoir_discrete -> Discrete version of management of the water level in interconnected reservoirs.\n",
      "SupplyChain -> A supply chain with factory and multiple warehouses.\n",
      "SupplyChainNet -> A supply chain network with factory and multiple warehouses.\n",
      "Traffic -> BLX/QTM traffic model.\n",
      "UAV_continuous -> Continuous action space version of multi-UAV problem where a group of UAVs have to reach goal positions in the 3d Space.\n",
      "UAV_discrete -> Discrete action space version of multi-UAV problem where a group of UAVs have to reach goal positions in the 3d Space.\n",
      "UAV_mixed -> Mixed action space version of multi-UAV problem where a group of UAVs have to reach goal positions in the 3d Space.\n",
      "Wildfire -> A boolean version of the wildfire fighting domain.\n",
      "The building has 5 floors and 1 elevators. Each floor has maximum 3 people waiting. Each elevator can carry maximum of 10 people.\n"
     ]
    },
    {
     "name": "stderr",
     "output_type": "stream",
     "text": [
      "c:\\Users\\ianch\\miniconda3\\envs\\aiplanning\\Lib\\site-packages\\pyRDDLGym\\Core\\Env\\RDDLConstraints.py:85: UserWarning: Constraint does not have a structure of <action or state fluent> <op> <rhs>, where:\n",
      "<op> is one of {<=, <, >=, >}\n",
      "<rhs> is a deterministic function of non-fluents or constants only.\n",
      ">> ( sum_{?f: floor} [ elevator-at-floor(?e, ?f) ] ) == 1\n",
      "  warnings.warn(\n"
     ]
    }
   ],
   "source": [
    "env = ElevatorEnvironment()"
   ]
  },
  {
   "cell_type": "markdown",
   "metadata": {},
   "source": [
    "Define agent to generate trajectories for testing and initialize transition model"
   ]
  },
  {
   "cell_type": "code",
   "execution_count": 5,
   "metadata": {},
   "outputs": [],
   "source": [
    "SEED = 117\n",
    "np.random.seed(SEED)\n",
    "random.seed(SEED)"
   ]
  },
  {
   "cell_type": "code",
   "execution_count": 6,
   "metadata": {},
   "outputs": [],
   "source": [
    "random_agent = RandomAgent(env, seed=SEED)\n",
    "expert_agent = ElevatorExpertPolicyAgent()\n",
    "\n",
    "params = {\n",
    "    \"env_params\": {\n",
    "        \"system_prompt_path\": \"../prompts/prompt_elevator_transition.txt\",\n",
    "        \"extract_state_regex\": r\"next state:(.*?)```\",\n",
    "        \"extract_regex_fallback\": [r\"\\*\\*next state:\\*\\*(.*)\", r\"next state:(.*)\"],\n",
    "    },\n",
    "    \"load_prompt_buffer_path\": None, # update this path to the path of the saved prompt buffer   \n",
    "}\n",
    "\n",
    "transition_model = LLMTransitionModel(**params, prompt_buffer_prefix=\"elevator_transition_mistral\", debug=True)"
   ]
  },
  {
   "cell_type": "markdown",
   "metadata": {},
   "source": [
    "Generate trajectories for both agents"
   ]
  },
  {
   "cell_type": "code",
   "execution_count": 7,
   "metadata": {},
   "outputs": [],
   "source": [
    "# random agent\n",
    "state, _ = env.reset(SEED)\n",
    "done = False\n",
    "\n",
    "random_agent_trajectory = []\n",
    "\n",
    "while not done:\n",
    "    action = random_agent.act(state)\n",
    "    next_state, reward, done, _, _ = env.step(action)\n",
    "    random_agent_trajectory.append((state, action, reward, next_state, done))\n",
    "    state = next_state\n",
    "    \n",
    "# expert agent\n",
    "state, _ = env.reset(SEED + 1)  # use a different seed for the expert agent\n",
    "done = False\n",
    "\n",
    "expert_agent_trajectory = []\n",
    "\n",
    "while not done:\n",
    "    action = expert_agent.act(state)\n",
    "    next_state, reward, done, _, _ = env.step(action)\n",
    "    expert_agent_trajectory.append((state, action, reward, next_state, done))\n",
    "    state = next_state"
   ]
  },
  {
   "cell_type": "code",
   "execution_count": 8,
   "metadata": {},
   "outputs": [],
   "source": [
    "trajectories_combined = random_agent_trajectory + expert_agent_trajectory"
   ]
  },
  {
   "cell_type": "code",
   "execution_count": 10,
   "metadata": {},
   "outputs": [
    {
     "data": {
      "text/plain": [
       "False"
      ]
     },
     "execution_count": 10,
     "metadata": {},
     "output_type": "execute_result"
    }
   ],
   "source": [
    "import pickle\n",
    "\n",
    "#load \"elevator_transition_results_gpt.pkl\n",
    "with open(\"elevator_transition_results_gpt.pkl\", \"rb\") as f:\n",
    "    results = pickle.load(f)\n",
    "    \n",
    "state_text_generated = [t[0] for t in trajectories_combined]\n",
    "state_text_loaded = [t[0] for t in results]\n",
    "state_text_generated = [env.state_to_text(s) for s in state_text_generated]\n",
    "state_text_loaded == state_text_generated"
   ]
  },
  {
   "cell_type": "markdown",
   "metadata": {},
   "source": [
    "### Sanity check test"
   ]
  },
  {
   "cell_type": "code",
   "execution_count": 33,
   "metadata": {},
   "outputs": [
    {
     "name": "stdout",
     "output_type": "stream",
     "text": [
      "State text:\n",
      " People waiting at floor 2: 3\n",
      "People waiting at floor 3: 3\n",
      "People waiting at floor 4: 1\n",
      "People waiting at floor 5: 3\n",
      "Elevator at floor 3.\n",
      "There are 4 people in the elevator.\n",
      "Elevator is moving down.\n",
      "Elevator door is closed.\n",
      "\n",
      "Action text: move\n",
      "Next state text:\n",
      " People waiting at floor 2: 3\n",
      "People waiting at floor 3: 3\n",
      "People waiting at floor 4: 1\n",
      "People waiting at floor 5: 3\n",
      "Elevator at floor 2.\n",
      "There are 4 people in the elevator.\n",
      "Elevator is moving down.\n",
      "Elevator door is closed.\n",
      "\n"
     ]
    }
   ],
   "source": [
    "# test the transition model\n",
    "trajectory = random.choice(trajectories_combined)\n",
    "state_test, action, next_state_test = trajectory[0], trajectory[1], trajectory[3]\n",
    "state_text, action_text, next_state_text = env.state_to_text(state_test), env.action_to_text(action), env.state_to_text(next_state_test)\n",
    "\n",
    "print(\"State text:\\n\", state_text)\n",
    "print(\"Action text:\", action_text)\n",
    "print(\"Next state text:\\n\", next_state_text)"
   ]
  },
  {
   "cell_type": "code",
   "execution_count": 63,
   "metadata": {},
   "outputs": [
    {
     "name": "stdout",
     "output_type": "stream",
     "text": [
      "Warning: No match found, trying fallback regex...\n"
     ]
    }
   ],
   "source": [
    "predicted_next_state_text, status = transition_model.get_next_state(state_text, action_text)"
   ]
  },
  {
   "cell_type": "markdown",
   "metadata": {},
   "source": []
  },
  {
   "cell_type": "code",
   "execution_count": 62,
   "metadata": {},
   "outputs": [
    {
     "name": "stdout",
     "output_type": "stream",
     "text": [
      "\n",
      "People waiting at floor 2: 2\n",
      "People waiting at floor 3: 3\n",
      "People waiting at floor 4: 0\n",
      "People waiting at floor 5: 2\n",
      "Elevator at floor 2.\n",
      "There are 4 people in the elevator.\n",
      "Elevator is moving down.\n",
      "Elevator door is closed.\n"
     ]
    }
   ],
   "source": [
    "print(predicted_next_state_text)"
   ]
  },
  {
   "cell_type": "markdown",
   "metadata": {},
   "source": [
    "### Get results for all trajectories"
   ]
  },
  {
   "cell_type": "code",
   "execution_count": 11,
   "metadata": {},
   "outputs": [],
   "source": [
    "import re\n",
    "\n",
    "def try_get_int(text):\n",
    "    try:\n",
    "        return int(text)\n",
    "    except:\n",
    "        return None\n",
    "\n",
    "def parse_state_text(state_text):\n",
    "    lines = state_text.split(\"\\n\")\n",
    "    people_waiting = []\n",
    "    elevator_floor = None\n",
    "    people_in_elevator = None\n",
    "    elevator_direction = None\n",
    "    door_status = None\n",
    "    \n",
    "    for line in lines:\n",
    "        line = line.strip().lower()\n",
    "        # assuming the lines are in order\n",
    "        if \"people waiting at floor\" in line:\n",
    "            split = line.split(\":\")\n",
    "            # print(\"waiting\", split)\n",
    "            waiting = split[1].strip() if len(split) == 2 else None\n",
    "                \n",
    "            waiting = try_get_int(waiting)            \n",
    "            people_waiting.append(waiting)\n",
    "            \n",
    "        if \"elevator at floor\" in line:\n",
    "            split = line.split(\"floor\")\n",
    "            # print(\"floor\", split)\n",
    "            elevator_floor = split[1].strip() if len(split) == 2 else None\n",
    "            if '.' in elevator_floor:\n",
    "                elevator_floor = elevator_floor.split(\".\")[0]\n",
    "            elevator_floor = try_get_int(elevator_floor)\n",
    "            \n",
    "        if \"people in the elevator\" in line:\n",
    "            #use regex to find the only number in the line\n",
    "            people_in_elevator = re.findall(r'\\d+', line)\n",
    "            people_in_elevator = int(people_in_elevator[0]) if len(people_in_elevator) else None\n",
    "            \n",
    "        if \"elevator is moving\" in line:\n",
    "            elevator_direction = \"up\" if \"up\" in line else \"down\" if \"down\" in line else None\n",
    "            \n",
    "        if \"elevator door is\" in line:\n",
    "            door_status = \"open\" if \"open\" in line else \"closed\" if \"closed\" in line else None\n",
    "            \n",
    "    # check for parse failure\n",
    "    failure_flag = False\n",
    "    \n",
    "    if len(people_waiting) == 0 or None in people_waiting:\n",
    "        failure_flag = True\n",
    "    if None in [elevator_floor, people_in_elevator, elevator_direction, door_status]:\n",
    "        failure_flag = True\n",
    "        \n",
    "    out = {\n",
    "        \"people_waiting\": people_waiting,\n",
    "        \"elevator_floor\": elevator_floor,\n",
    "        \"people_in_elevator\": people_in_elevator,\n",
    "        \"elevator_direction\": elevator_direction,\n",
    "        \"door_status\": door_status,\n",
    "        \"failure_flag\": failure_flag\n",
    "    }  \n",
    "    \n",
    "    return out           \n",
    "        "
   ]
  },
  {
   "cell_type": "code",
   "execution_count": 12,
   "metadata": {},
   "outputs": [
    {
     "name": "stdout",
     "output_type": "stream",
     "text": [
      "All states parsed successfully\n",
      "{'people_waiting': [1, 0, 0, 3], 'elevator_floor': 1, 'people_in_elevator': 0, 'elevator_direction': 'up', 'door_status': 'closed', 'failure_flag': False}\n"
     ]
    }
   ],
   "source": [
    "# sanity check for ground truth states\n",
    "states = [trajectory[0] for trajectory in trajectories_combined]\n",
    "state_texts = [env.state_to_text(state) for state in states]\n",
    "\n",
    "for state_text in state_texts:\n",
    "    parsed_state = parse_state_text(state_text)\n",
    "    if parsed_state[\"failure_flag\"]:\n",
    "        print(\"Failed to parse state text\")\n",
    "        print(state_text)\n",
    "        print(parsed_state)\n",
    "else:\n",
    "    print(\"All states parsed successfully\")\n",
    "    print(parsed_state)"
   ]
  },
  {
   "cell_type": "code",
   "execution_count": 13,
   "metadata": {},
   "outputs": [],
   "source": [
    "def eval_prediction(current_state_text, next_state_text, predicted_next_state_text):\n",
    "    '''\n",
    "    Evaluate the correctness of the predicted next state.\n",
    "    \n",
    "    For people waiting:\n",
    "        - check if the number of people is not above 3.\n",
    "        - check if the number is equal or more than the current state.\n",
    "            - If it is more, check if the elevator picked up the passengers on that floor.\n",
    "        \n",
    "    For elevator floor, people in elevator, elevator direction, and door status:\n",
    "        - check if the predicted values are the same as the ground truth values\n",
    "        \n",
    "    Returns a dictionary indicating if each field is correct or not.\n",
    "    '''\n",
    "    \n",
    "    state = parse_state_text(current_state_text)\n",
    "    next_state = parse_state_text(next_state_text)\n",
    "    predicted_next_state = parse_state_text(predicted_next_state_text)\n",
    "            \n",
    "    elevator_floor_correct = next_state[\"elevator_floor\"] == predicted_next_state[\"elevator_floor\"]\n",
    "    people_in_elevator_correct = next_state[\"people_in_elevator\"] == predicted_next_state[\"people_in_elevator\"]\n",
    "    elevator_direction_correct = next_state[\"elevator_direction\"] == predicted_next_state[\"elevator_direction\"]\n",
    "    door_status_correct = next_state[\"door_status\"] == predicted_next_state[\"door_status\"]\n",
    "    \n",
    "    people_waiting_correct = False\n",
    "    \n",
    "    if len(next_state[\"people_waiting\"]) == len(predicted_next_state[\"people_waiting\"]):\n",
    "        for i, (waiting, predicted_waiting) in enumerate(zip(state[\"people_waiting\"], state[\"people_waiting\"])):\n",
    "            if predicted_waiting is None:\n",
    "                people_waiting_correct = False\n",
    "                break\n",
    "            if  predicted_waiting > 3:\n",
    "                people_waiting_correct = False\n",
    "                break\n",
    "            if predicted_waiting < waiting:\n",
    "                #check if the elevator picked up the passengers on that floor\n",
    "                #pre-requisite: previous status all correct\n",
    "                if not all([elevator_floor_correct, people_in_elevator_correct, elevator_direction_correct, door_status_correct]):\n",
    "                    people_waiting_correct = False\n",
    "                    break\n",
    "                else:\n",
    "                    floor = i + 2\n",
    "                    \n",
    "                    cond_1 = next_state[\"elevator_floor\"] == floor\n",
    "                    cond_2 = next_state[\"door_status\"] == \"open\"\n",
    "                    cond_3 = predicted_waiting == 0\n",
    "                    \n",
    "                    if not all([cond_1, cond_2, cond_3]):\n",
    "                        people_waiting_correct = False\n",
    "                        break \n",
    "                                  \n",
    "        else:\n",
    "            people_waiting_correct = True\n",
    "    \n",
    "    \n",
    "    has_parse_failure = predicted_next_state[\"failure_flag\"]\n",
    "    \n",
    "    out = {\n",
    "        \"people_waiting\": people_waiting_correct,\n",
    "        \"elevator_floor\": elevator_floor_correct,\n",
    "        \"people_in_elevator\": people_in_elevator_correct,\n",
    "        \"elevator_direction\": elevator_direction_correct,\n",
    "        \"door_status\": door_status_correct,\n",
    "        \"has_parse_failure\": has_parse_failure\n",
    "    }\n",
    "    \n",
    "    all_correct = all([v for k, v in out.items() if k != \"has_parse_failure\"])\n",
    "    out[\"all_correct\"] = all_correct\n",
    "    \n",
    "    return out    "
   ]
  },
  {
   "cell_type": "code",
   "execution_count": 14,
   "metadata": {},
   "outputs": [
    {
     "name": "stdout",
     "output_type": "stream",
     "text": [
      "All predictions correct\n"
     ]
    }
   ],
   "source": [
    "# sanity test with gt next state\n",
    "next_states = [trajectory[3] for trajectory in trajectories_combined]\n",
    "next_state_texts = [env.state_to_text(state) for state in next_states]\n",
    "\n",
    "for state_text, next_state_text in zip(state_texts, next_state_texts):\n",
    "    predicted_next_state_text = next_state_text\n",
    "    prediction_eval = eval_prediction(state_text, next_state_text, predicted_next_state_text)\n",
    "    \n",
    "    #should be all correct\n",
    "    if not prediction_eval[\"all_correct\"]:\n",
    "        print(\"Failed to predict next state\")\n",
    "        print(state_text)\n",
    "        print(next_state_text)\n",
    "        print(predicted_next_state_text)\n",
    "        print(prediction_eval)\n",
    "        \n",
    "        break\n",
    "    \n",
    "else:\n",
    "    print(\"All predictions correct\")"
   ]
  },
  {
   "cell_type": "code",
   "execution_count": null,
   "metadata": {},
   "outputs": [],
   "source": []
  },
  {
   "cell_type": "code",
   "execution_count": 15,
   "metadata": {},
   "outputs": [
    {
     "data": {
      "text/plain": [
       "'open-mixtral-8x22b'"
      ]
     },
     "execution_count": 15,
     "metadata": {},
     "output_type": "execute_result"
    }
   ],
   "source": [
    "transition_model.llm_model"
   ]
  },
  {
   "cell_type": "code",
   "execution_count": 16,
   "metadata": {},
   "outputs": [
    {
     "name": "stderr",
     "output_type": "stream",
     "text": [
      "Correct: 8/10:   2%|▎         | 10/400 [00:49<32:08,  4.95s/it]"
     ]
    },
    {
     "name": "stdout",
     "output_type": "stream",
     "text": [
      "Saving prompt buffer to elevator_transition_mistral_20241109_020603.pkl\n"
     ]
    },
    {
     "name": "stderr",
     "output_type": "stream",
     "text": [
      "Correct: 10/14:   4%|▎         | 14/400 [01:09<32:33,  5.06s/it]"
     ]
    },
    {
     "name": "stdout",
     "output_type": "stream",
     "text": [
      "Error: No match found with fallback regex, using full response as next state\n"
     ]
    },
    {
     "name": "stderr",
     "output_type": "stream",
     "text": [
      "Correct: 17/22:   6%|▌         | 22/400 [01:38<20:01,  3.18s/it]"
     ]
    },
    {
     "name": "stdout",
     "output_type": "stream",
     "text": [
      "Saving prompt buffer to elevator_transition_mistral_20241109_020603.pkl\n"
     ]
    },
    {
     "name": "stderr",
     "output_type": "stream",
     "text": [
      "Correct: 29/37:   9%|▉         | 37/400 [02:06<13:42,  2.27s/it]"
     ]
    },
    {
     "name": "stdout",
     "output_type": "stream",
     "text": [
      "Error: No match found with fallback regex, using full response as next state\n"
     ]
    },
    {
     "name": "stderr",
     "output_type": "stream",
     "text": [
      "Correct: 35/43:  10%|█         | 42/400 [02:25<20:06,  3.37s/it]"
     ]
    },
    {
     "name": "stdout",
     "output_type": "stream",
     "text": [
      "Saving prompt buffer to elevator_transition_mistral_20241109_020603.pkl\n"
     ]
    },
    {
     "name": "stderr",
     "output_type": "stream",
     "text": [
      "Correct: 38/46:  12%|█▏        | 46/400 [02:39<21:39,  3.67s/it]"
     ]
    },
    {
     "name": "stdout",
     "output_type": "stream",
     "text": [
      "Error: No match found with fallback regex, using full response as next state\n"
     ]
    },
    {
     "name": "stderr",
     "output_type": "stream",
     "text": [
      "Correct: 46/54:  14%|█▎        | 54/400 [03:13<25:07,  4.36s/it]"
     ]
    },
    {
     "name": "stdout",
     "output_type": "stream",
     "text": [
      "Saving prompt buffer to elevator_transition_mistral_20241109_020603.pkl\n",
      "Error: No match found with fallback regex, using full response as next state\n"
     ]
    },
    {
     "name": "stderr",
     "output_type": "stream",
     "text": [
      "Correct: 49/57:  14%|█▍        | 57/400 [03:28<27:17,  4.77s/it]"
     ]
    },
    {
     "name": "stdout",
     "output_type": "stream",
     "text": [
      "Error: No match found with fallback regex, using full response as next state\n"
     ]
    },
    {
     "name": "stderr",
     "output_type": "stream",
     "text": [
      "Correct: 56/64:  16%|█▌        | 64/400 [03:58<21:00,  3.75s/it]"
     ]
    },
    {
     "name": "stdout",
     "output_type": "stream",
     "text": [
      "Error: No match found with fallback regex, using full response as next state\n"
     ]
    },
    {
     "name": "stderr",
     "output_type": "stream",
     "text": [
      "Correct: 57/65:  16%|█▋        | 65/400 [04:03<21:53,  3.92s/it]"
     ]
    },
    {
     "name": "stdout",
     "output_type": "stream",
     "text": [
      "Saving prompt buffer to elevator_transition_mistral_20241109_020603.pkl\n"
     ]
    },
    {
     "name": "stderr",
     "output_type": "stream",
     "text": [
      "Correct: 61/70:  18%|█▊        | 70/400 [04:24<23:58,  4.36s/it]"
     ]
    },
    {
     "name": "stdout",
     "output_type": "stream",
     "text": [
      "Error: No match found with fallback regex, using full response as next state\n"
     ]
    },
    {
     "name": "stderr",
     "output_type": "stream",
     "text": [
      "Correct: 66/76:  18%|█▊        | 73/400 [04:40<26:32,  4.87s/it]"
     ]
    },
    {
     "name": "stdout",
     "output_type": "stream",
     "text": [
      "Error: No match found with fallback regex, using full response as next state\n"
     ]
    },
    {
     "name": "stderr",
     "output_type": "stream",
     "text": [
      "Correct: 68/78:  20%|█▉        | 78/400 [04:49<16:03,  2.99s/it]"
     ]
    },
    {
     "name": "stdout",
     "output_type": "stream",
     "text": [
      "Error: No match found with fallback regex, using full response as next state\n"
     ]
    },
    {
     "name": "stderr",
     "output_type": "stream",
     "text": [
      "Correct: 69/79:  20%|█▉        | 79/400 [04:54<17:32,  3.28s/it]"
     ]
    },
    {
     "name": "stdout",
     "output_type": "stream",
     "text": [
      "Saving prompt buffer to elevator_transition_mistral_20241109_020603.pkl\n"
     ]
    },
    {
     "name": "stderr",
     "output_type": "stream",
     "text": [
      "Correct: 79/92:  23%|██▎       | 91/400 [05:35<14:47,  2.87s/it]"
     ]
    },
    {
     "name": "stdout",
     "output_type": "stream",
     "text": [
      "Error: No match found with fallback regex, using full response as next state\n"
     ]
    },
    {
     "name": "stderr",
     "output_type": "stream",
     "text": [
      "Correct: 86/99:  23%|██▎       | 93/400 [05:40<13:33,  2.65s/it]"
     ]
    },
    {
     "name": "stdout",
     "output_type": "stream",
     "text": [
      "Saving prompt buffer to elevator_transition_mistral_20241109_020603.pkl\n",
      "Error: No match found with fallback regex, using full response as next state\n",
      "Error: No match found with fallback regex, using full response as next state\n"
     ]
    },
    {
     "name": "stderr",
     "output_type": "stream",
     "text": [
      "Correct: 95/110:  28%|██▊       | 110/400 [06:30<13:52,  2.87s/it]"
     ]
    },
    {
     "name": "stdout",
     "output_type": "stream",
     "text": [
      "Error: No match found with fallback regex, using full response as next state\n"
     ]
    },
    {
     "name": "stderr",
     "output_type": "stream",
     "text": [
      "Correct: 97/113:  28%|██▊       | 113/400 [06:45<18:36,  3.89s/it]"
     ]
    },
    {
     "name": "stdout",
     "output_type": "stream",
     "text": [
      "Saving prompt buffer to elevator_transition_mistral_20241109_020603.pkl\n"
     ]
    },
    {
     "name": "stderr",
     "output_type": "stream",
     "text": [
      "Correct: 103/119:  30%|██▉       | 119/400 [07:12<20:22,  4.35s/it]"
     ]
    },
    {
     "name": "stdout",
     "output_type": "stream",
     "text": [
      "Error: No match found with fallback regex, using full response as next state\n"
     ]
    },
    {
     "name": "stderr",
     "output_type": "stream",
     "text": [
      "Correct: 108/124:  31%|███       | 124/400 [07:32<17:19,  3.77s/it]"
     ]
    },
    {
     "name": "stdout",
     "output_type": "stream",
     "text": [
      "Saving prompt buffer to elevator_transition_mistral_20241109_020603.pkl\n"
     ]
    },
    {
     "name": "stderr",
     "output_type": "stream",
     "text": [
      "Correct: 111/128:  32%|███▏      | 128/400 [07:52<21:15,  4.69s/it]"
     ]
    },
    {
     "name": "stdout",
     "output_type": "stream",
     "text": [
      "Error: No match found with fallback regex, using full response as next state\n"
     ]
    },
    {
     "name": "stderr",
     "output_type": "stream",
     "text": [
      "Correct: 117/134:  34%|███▎      | 134/400 [08:20<20:50,  4.70s/it]"
     ]
    },
    {
     "name": "stdout",
     "output_type": "stream",
     "text": [
      "Saving prompt buffer to elevator_transition_mistral_20241109_020603.pkl\n"
     ]
    },
    {
     "name": "stderr",
     "output_type": "stream",
     "text": [
      "Correct: 127/145:  36%|███▌      | 144/400 [09:06<19:18,  4.53s/it]"
     ]
    },
    {
     "name": "stdout",
     "output_type": "stream",
     "text": [
      "Saving prompt buffer to elevator_transition_mistral_20241109_020603.pkl\n"
     ]
    },
    {
     "name": "stderr",
     "output_type": "stream",
     "text": [
      "Correct: 136/154:  38%|███▊      | 153/400 [09:39<17:29,  4.25s/it]"
     ]
    },
    {
     "name": "stdout",
     "output_type": "stream",
     "text": [
      "Error: No match found with fallback regex, using full response as next state\n",
      "Error: No match found with fallback regex, using full response as next state\n"
     ]
    },
    {
     "name": "stderr",
     "output_type": "stream",
     "text": [
      "Correct: 137/155:  39%|███▉      | 155/400 [09:44<14:06,  3.46s/it]"
     ]
    },
    {
     "name": "stdout",
     "output_type": "stream",
     "text": [
      "Error: No match found with fallback regex, using full response as next state\n"
     ]
    },
    {
     "name": "stderr",
     "output_type": "stream",
     "text": [
      "Correct: 139/157:  39%|███▉      | 157/400 [09:54<17:15,  4.26s/it]"
     ]
    },
    {
     "name": "stdout",
     "output_type": "stream",
     "text": [
      "Saving prompt buffer to elevator_transition_mistral_20241109_020603.pkl\n"
     ]
    },
    {
     "name": "stderr",
     "output_type": "stream",
     "text": [
      "Correct: 152/172:  42%|████▏     | 167/400 [10:14<08:38,  2.23s/it]"
     ]
    },
    {
     "name": "stdout",
     "output_type": "stream",
     "text": [
      "Error: No match found with fallback regex, using full response as next state\n",
      "Error: No match found with fallback regex, using full response as next state\n"
     ]
    },
    {
     "name": "stderr",
     "output_type": "stream",
     "text": [
      "Correct: 155/175:  43%|████▎     | 173/400 [10:19<05:31,  1.46s/it]"
     ]
    },
    {
     "name": "stdout",
     "output_type": "stream",
     "text": [
      "Error: No match found with fallback regex, using full response as next state\n"
     ]
    },
    {
     "name": "stderr",
     "output_type": "stream",
     "text": [
      "Correct: 158/178:  44%|████▍     | 178/400 [10:28<06:10,  1.67s/it]"
     ]
    },
    {
     "name": "stdout",
     "output_type": "stream",
     "text": [
      "Error: No match found with fallback regex, using full response as next state\n"
     ]
    },
    {
     "name": "stderr",
     "output_type": "stream",
     "text": [
      "Correct: 162/182:  46%|████▌     | 182/400 [10:41<08:40,  2.39s/it]"
     ]
    },
    {
     "name": "stdout",
     "output_type": "stream",
     "text": [
      "Saving prompt buffer to elevator_transition_mistral_20241109_020603.pkl\n"
     ]
    },
    {
     "name": "stderr",
     "output_type": "stream",
     "text": [
      "Correct: 163/183:  46%|████▌     | 183/400 [10:46<10:03,  2.78s/it]"
     ]
    },
    {
     "name": "stdout",
     "output_type": "stream",
     "text": [
      "Error: No match found with fallback regex, using full response as next state\n"
     ]
    },
    {
     "name": "stderr",
     "output_type": "stream",
     "text": [
      "Correct: 173/193:  48%|████▊     | 193/400 [11:27<12:33,  3.64s/it]"
     ]
    },
    {
     "name": "stdout",
     "output_type": "stream",
     "text": [
      "Saving prompt buffer to elevator_transition_mistral_20241109_020603.pkl\n"
     ]
    },
    {
     "name": "stderr",
     "output_type": "stream",
     "text": [
      "Correct: 183/205:  51%|█████▏    | 205/400 [12:13<12:23,  3.81s/it]"
     ]
    },
    {
     "name": "stdout",
     "output_type": "stream",
     "text": [
      "Saving prompt buffer to elevator_transition_mistral_20241109_020603.pkl\n"
     ]
    },
    {
     "name": "stderr",
     "output_type": "stream",
     "text": [
      "Correct: 192/215:  54%|█████▍    | 215/400 [13:00<14:02,  4.55s/it]"
     ]
    },
    {
     "name": "stdout",
     "output_type": "stream",
     "text": [
      "Saving prompt buffer to elevator_transition_mistral_20241109_020603.pkl\n",
      "Error: No match found with fallback regex, using full response as next state\n"
     ]
    },
    {
     "name": "stderr",
     "output_type": "stream",
     "text": [
      "Correct: 201/225:  56%|█████▋    | 225/400 [13:48<13:30,  4.63s/it]"
     ]
    },
    {
     "name": "stdout",
     "output_type": "stream",
     "text": [
      "Saving prompt buffer to elevator_transition_mistral_20241109_020603.pkl\n"
     ]
    },
    {
     "name": "stderr",
     "output_type": "stream",
     "text": [
      "Correct: 202/226:  56%|█████▋    | 226/400 [13:52<13:29,  4.65s/it]"
     ]
    },
    {
     "name": "stdout",
     "output_type": "stream",
     "text": [
      "Error: No match found with fallback regex, using full response as next state\n"
     ]
    },
    {
     "name": "stderr",
     "output_type": "stream",
     "text": [
      "Correct: 208/233:  58%|█████▊    | 233/400 [14:25<13:04,  4.70s/it]"
     ]
    },
    {
     "name": "stdout",
     "output_type": "stream",
     "text": [
      "Error: No match found with fallback regex, using full response as next state\n"
     ]
    },
    {
     "name": "stderr",
     "output_type": "stream",
     "text": [
      "Correct: 210/235:  59%|█████▉    | 235/400 [14:34<12:50,  4.67s/it]"
     ]
    },
    {
     "name": "stdout",
     "output_type": "stream",
     "text": [
      "Saving prompt buffer to elevator_transition_mistral_20241109_020603.pkl\n"
     ]
    },
    {
     "name": "stderr",
     "output_type": "stream",
     "text": [
      "Correct: 215/240:  60%|██████    | 240/400 [14:59<12:53,  4.84s/it]"
     ]
    },
    {
     "name": "stdout",
     "output_type": "stream",
     "text": [
      "Error: No match found with fallback regex, using full response as next state\n"
     ]
    },
    {
     "name": "stderr",
     "output_type": "stream",
     "text": [
      "Correct: 216/242:  60%|██████    | 242/400 [15:09<12:48,  4.87s/it]"
     ]
    },
    {
     "name": "stdout",
     "output_type": "stream",
     "text": [
      "Error: No match found with fallback regex, using full response as next state\n"
     ]
    },
    {
     "name": "stderr",
     "output_type": "stream",
     "text": [
      "Correct: 218/244:  61%|██████    | 244/400 [15:18<11:59,  4.61s/it]"
     ]
    },
    {
     "name": "stdout",
     "output_type": "stream",
     "text": [
      "Error: No match found with fallback regex, using full response as next state\n"
     ]
    },
    {
     "name": "stderr",
     "output_type": "stream",
     "text": [
      "Correct: 219/245:  61%|██████▏   | 245/400 [15:24<13:01,  5.04s/it]"
     ]
    },
    {
     "name": "stdout",
     "output_type": "stream",
     "text": [
      "Saving prompt buffer to elevator_transition_mistral_20241109_020603.pkl\n"
     ]
    },
    {
     "name": "stderr",
     "output_type": "stream",
     "text": [
      "Correct: 228/255:  64%|██████▍   | 255/400 [16:12<12:26,  5.15s/it]"
     ]
    },
    {
     "name": "stdout",
     "output_type": "stream",
     "text": [
      "Saving prompt buffer to elevator_transition_mistral_20241109_020603.pkl\n"
     ]
    },
    {
     "name": "stderr",
     "output_type": "stream",
     "text": [
      "Correct: 230/258:  64%|██████▍   | 258/400 [16:26<11:30,  4.86s/it]"
     ]
    },
    {
     "name": "stdout",
     "output_type": "stream",
     "text": [
      "Error: No match found with fallback regex, using full response as next state\n"
     ]
    },
    {
     "name": "stderr",
     "output_type": "stream",
     "text": [
      "Correct: 234/265:  66%|██████▋   | 265/400 [17:02<11:18,  5.03s/it]"
     ]
    },
    {
     "name": "stdout",
     "output_type": "stream",
     "text": [
      "Saving prompt buffer to elevator_transition_mistral_20241109_020603.pkl\n"
     ]
    },
    {
     "name": "stderr",
     "output_type": "stream",
     "text": [
      "Correct: 243/275:  69%|██████▉   | 275/400 [17:50<10:01,  4.81s/it]"
     ]
    },
    {
     "name": "stdout",
     "output_type": "stream",
     "text": [
      "Saving prompt buffer to elevator_transition_mistral_20241109_020603.pkl\n"
     ]
    },
    {
     "name": "stderr",
     "output_type": "stream",
     "text": [
      "Correct: 246/278:  70%|██████▉   | 278/400 [18:08<11:15,  5.54s/it]"
     ]
    },
    {
     "name": "stdout",
     "output_type": "stream",
     "text": [
      "Error: No match found with fallback regex, using full response as next state\n"
     ]
    },
    {
     "name": "stderr",
     "output_type": "stream",
     "text": [
      "Correct: 251/283:  71%|███████   | 283/400 [18:32<09:17,  4.77s/it]"
     ]
    },
    {
     "name": "stdout",
     "output_type": "stream",
     "text": [
      "Error: No match found with fallback regex, using full response as next state\n"
     ]
    },
    {
     "name": "stderr",
     "output_type": "stream",
     "text": [
      "Correct: 252/285:  71%|███████▏  | 285/400 [18:41<09:06,  4.75s/it]"
     ]
    },
    {
     "name": "stdout",
     "output_type": "stream",
     "text": [
      "Saving prompt buffer to elevator_transition_mistral_20241109_020603.pkl\n",
      "Error: No match found with fallback regex, using full response as next state\n"
     ]
    },
    {
     "name": "stderr",
     "output_type": "stream",
     "text": [
      "Correct: 261/295:  74%|███████▍  | 295/400 [19:31<09:04,  5.19s/it]"
     ]
    },
    {
     "name": "stdout",
     "output_type": "stream",
     "text": [
      "Saving prompt buffer to elevator_transition_mistral_20241109_020603.pkl\n"
     ]
    },
    {
     "name": "stderr",
     "output_type": "stream",
     "text": [
      "Correct: 267/305:  76%|███████▋  | 305/400 [20:18<07:29,  4.74s/it]"
     ]
    },
    {
     "name": "stdout",
     "output_type": "stream",
     "text": [
      "Saving prompt buffer to elevator_transition_mistral_20241109_020603.pkl\n"
     ]
    },
    {
     "name": "stderr",
     "output_type": "stream",
     "text": [
      "Correct: 276/315:  79%|███████▉  | 315/400 [21:03<06:12,  4.39s/it]"
     ]
    },
    {
     "name": "stdout",
     "output_type": "stream",
     "text": [
      "Saving prompt buffer to elevator_transition_mistral_20241109_020603.pkl\n"
     ]
    },
    {
     "name": "stderr",
     "output_type": "stream",
     "text": [
      "Correct: 283/325:  81%|████████▏ | 325/400 [21:51<06:04,  4.86s/it]"
     ]
    },
    {
     "name": "stdout",
     "output_type": "stream",
     "text": [
      "Saving prompt buffer to elevator_transition_mistral_20241109_020603.pkl\n"
     ]
    },
    {
     "name": "stderr",
     "output_type": "stream",
     "text": [
      "Correct: 290/335:  84%|████████▍ | 335/400 [22:38<05:00,  4.62s/it]"
     ]
    },
    {
     "name": "stdout",
     "output_type": "stream",
     "text": [
      "Saving prompt buffer to elevator_transition_mistral_20241109_020603.pkl\n"
     ]
    },
    {
     "name": "stderr",
     "output_type": "stream",
     "text": [
      "Correct: 294/339:  85%|████████▍ | 339/400 [22:56<04:32,  4.47s/it]"
     ]
    },
    {
     "name": "stdout",
     "output_type": "stream",
     "text": [
      "Error: No match found with fallback regex, using full response as next state\n"
     ]
    },
    {
     "name": "stderr",
     "output_type": "stream",
     "text": [
      "Correct: 300/345:  86%|████████▋ | 345/400 [23:22<04:04,  4.44s/it]"
     ]
    },
    {
     "name": "stdout",
     "output_type": "stream",
     "text": [
      "Saving prompt buffer to elevator_transition_mistral_20241109_020603.pkl\n"
     ]
    },
    {
     "name": "stderr",
     "output_type": "stream",
     "text": [
      "Correct: 305/351:  88%|████████▊ | 351/400 [23:51<04:01,  4.93s/it]"
     ]
    },
    {
     "name": "stdout",
     "output_type": "stream",
     "text": [
      "Error: No match found with fallback regex, using full response as next state\n"
     ]
    },
    {
     "name": "stderr",
     "output_type": "stream",
     "text": [
      "Correct: 308/355:  89%|████████▉ | 355/400 [24:09<03:23,  4.52s/it]"
     ]
    },
    {
     "name": "stdout",
     "output_type": "stream",
     "text": [
      "Saving prompt buffer to elevator_transition_mistral_20241109_020603.pkl\n"
     ]
    },
    {
     "name": "stderr",
     "output_type": "stream",
     "text": [
      "Correct: 317/365:  91%|█████████▏| 365/400 [24:54<02:36,  4.46s/it]"
     ]
    },
    {
     "name": "stdout",
     "output_type": "stream",
     "text": [
      "Saving prompt buffer to elevator_transition_mistral_20241109_020603.pkl\n"
     ]
    },
    {
     "name": "stderr",
     "output_type": "stream",
     "text": [
      "Correct: 320/368:  92%|█████████▏| 368/400 [25:10<02:38,  4.95s/it]"
     ]
    },
    {
     "name": "stdout",
     "output_type": "stream",
     "text": [
      "Error: No match found with fallback regex, using full response as next state\n"
     ]
    },
    {
     "name": "stderr",
     "output_type": "stream",
     "text": [
      "Correct: 326/375:  94%|█████████▍| 375/400 [25:46<02:06,  5.06s/it]"
     ]
    },
    {
     "name": "stdout",
     "output_type": "stream",
     "text": [
      "Saving prompt buffer to elevator_transition_mistral_20241109_020603.pkl\n"
     ]
    },
    {
     "name": "stderr",
     "output_type": "stream",
     "text": [
      "Correct: 328/377:  94%|█████████▍| 377/400 [25:54<01:45,  4.57s/it]"
     ]
    },
    {
     "name": "stdout",
     "output_type": "stream",
     "text": [
      "Error: No match found with fallback regex, using full response as next state\n"
     ]
    },
    {
     "name": "stderr",
     "output_type": "stream",
     "text": [
      "Correct: 335/385:  96%|█████████▋| 385/400 [26:31<01:08,  4.54s/it]"
     ]
    },
    {
     "name": "stdout",
     "output_type": "stream",
     "text": [
      "Saving prompt buffer to elevator_transition_mistral_20241109_020603.pkl\n"
     ]
    },
    {
     "name": "stderr",
     "output_type": "stream",
     "text": [
      "Correct: 344/395:  99%|█████████▉| 395/400 [27:17<00:23,  4.70s/it]"
     ]
    },
    {
     "name": "stdout",
     "output_type": "stream",
     "text": [
      "Saving prompt buffer to elevator_transition_mistral_20241109_020603.pkl\n"
     ]
    },
    {
     "name": "stderr",
     "output_type": "stream",
     "text": [
      "Correct: 347/400: 100%|██████████| 400/400 [27:43<00:00,  4.16s/it]\n"
     ]
    }
   ],
   "source": [
    "import tqdm\n",
    "import time\n",
    "\n",
    "predicted_states = []\n",
    "status_list = []\n",
    "eval_results = []\n",
    "corrects = 0\n",
    "total = 0\n",
    "\n",
    "pbar = tqdm.tqdm(trajectories_combined)\n",
    "\n",
    "transition_model.debug = False\n",
    "\n",
    "for trajectory in pbar:\n",
    "    state, action, reward, next_state, done = trajectory\n",
    "    state_text, action_text, next_state_text = env.state_to_text(state), env.action_to_text(action), env.state_to_text(next_state)\n",
    "    \n",
    "    while True:\n",
    "        try:\n",
    "            predicted_next_state_text, status = transition_model.get_next_state(state_text, action_text)\n",
    "            break\n",
    "        except:\n",
    "            print(\"Retrying..\")\n",
    "            time.sleep(1)\n",
    "        \n",
    "    \n",
    "    predicted_states.append(predicted_next_state_text)\n",
    "    status_list.append(status)\n",
    "    \n",
    "    eval_result = eval_prediction(state_text, next_state_text, predicted_next_state_text)\n",
    "    \n",
    "    eval_results.append(eval_result)\n",
    "    \n",
    "    if eval_result[\"all_correct\"]:\n",
    "        corrects += 1\n",
    "    total += 1\n",
    "    \n",
    "    pbar.set_description(f\"Correct: {corrects}/{total}\")\n",
    "    "
   ]
  },
  {
   "cell_type": "code",
   "execution_count": 17,
   "metadata": {},
   "outputs": [
    {
     "name": "stdout",
     "output_type": "stream",
     "text": [
      "Accuracy: 0.8675\n"
     ]
    }
   ],
   "source": [
    "accuracy = corrects / total\n",
    "print(\"Accuracy:\", accuracy)"
   ]
  },
  {
   "cell_type": "markdown",
   "metadata": {},
   "source": [
    "### Explore the failure cases"
   ]
  },
  {
   "cell_type": "code",
   "execution_count": 17,
   "metadata": {},
   "outputs": [],
   "source": [
    "import pickle\n",
    "\n",
    "# states_text = [env.state_to_text(state) for state in states]\n",
    "# zipped = list(zip(states_text, predicted_states, eval_results))\n",
    "\n",
    "# # save the results\n",
    "\n",
    "# with open(\"elevator_transition_results_mistral.pkl\", \"wb\") as f:\n",
    "#     pickle.dump(zipped, f)\n",
    "\n",
    "with open(\"elevator_transition_results_mistral.pkl\", \"rb\") as f:\n",
    "    zipped = pickle.load(f)"
   ]
  },
  {
   "cell_type": "code",
   "execution_count": 18,
   "metadata": {},
   "outputs": [
    {
     "name": "stdout",
     "output_type": "stream",
     "text": [
      "Parse failures: 46 out of 400\n"
     ]
    }
   ],
   "source": [
    "parse_failures = [z for z in zipped if z[2][\"has_parse_failure\"]]\n",
    "\n",
    "print(f\"Parse failures: {len(parse_failures)} out of {len(zipped)}\")"
   ]
  },
  {
   "cell_type": "code",
   "execution_count": 117,
   "metadata": {},
   "outputs": [
    {
     "name": "stdout",
     "output_type": "stream",
     "text": [
      "People waiting at floor 2: 2\n",
      "People waiting at floor 3: 1\n",
      "People waiting at floor 4: 1\n",
      "People waiting at floor 5: 3\n",
      "Elevator at floor 1.\n",
      "There are 0 people in the elevator.\n",
      "Elevator is moving up.\n",
      "Elevator door is closed.\n",
      "\n",
      "\n",
      "People waiting at floor 2: 3 (2 existing + 1 new)\n",
      "People waiting at floor 3: 1\n",
      "People waiting at floor 4: 2 (1 existing + 1 new)\n",
      "People waiting at floor 5: 3\n",
      "Elevator at floor 1.\n",
      "There are 0 people in the elevator.\n",
      "Elevator is moving up.\n",
      "Elevator door is closed.\n",
      "{'people_waiting': True, 'elevator_floor': True, 'people_in_elevator': True, 'elevator_direction': True, 'door_status': True, 'has_parse_failure': True, 'all_correct': True}\n"
     ]
    }
   ],
   "source": [
    "parse_fail = parse_failures[3]\n",
    "state_text, predicted_next_state_text, eval_result = parse_fail\n",
    "print(state_text)\n",
    "print(predicted_next_state_text)\n",
    "print(eval_result)"
   ]
  },
  {
   "cell_type": "markdown",
   "metadata": {},
   "source": [
    "Rerun with OPENAI"
   ]
  },
  {
   "cell_type": "code",
   "execution_count": 36,
   "metadata": {},
   "outputs": [
    {
     "data": {
      "text/plain": [
       "'gpt-4o-mini'"
      ]
     },
     "execution_count": 36,
     "metadata": {},
     "output_type": "execute_result"
    }
   ],
   "source": [
    "# change .env to use openai and restart the kernel\n",
    "\n",
    "transition_model = LLMTransitionModel(**params, prompt_buffer_prefix=\"elevator_transition\", debug=False)\n",
    "transition_model.llm_model"
   ]
  },
  {
   "cell_type": "code",
   "execution_count": 38,
   "metadata": {},
   "outputs": [
    {
     "name": "stderr",
     "output_type": "stream",
     "text": [
      "Correct: 16/16:   3%|▎         | 13/400 [00:47<20:59,  3.25s/it]"
     ]
    },
    {
     "name": "stdout",
     "output_type": "stream",
     "text": [
      "Saving prompt buffer to elevator_transition_20241108_035325.pkl\n"
     ]
    },
    {
     "name": "stderr",
     "output_type": "stream",
     "text": [
      "Correct: 27/28:   7%|▋         | 28/400 [01:38<25:24,  4.10s/it]"
     ]
    },
    {
     "name": "stdout",
     "output_type": "stream",
     "text": [
      "Saving prompt buffer to elevator_transition_20241108_035325.pkl\n"
     ]
    },
    {
     "name": "stderr",
     "output_type": "stream",
     "text": [
      "Correct: 38/42:  10%|█         | 41/400 [02:22<22:02,  3.68s/it]"
     ]
    },
    {
     "name": "stdout",
     "output_type": "stream",
     "text": [
      "Saving prompt buffer to elevator_transition_20241108_035325.pkl\n"
     ]
    },
    {
     "name": "stderr",
     "output_type": "stream",
     "text": [
      "Correct: 48/53:  13%|█▎        | 53/400 [03:07<25:55,  4.48s/it]"
     ]
    },
    {
     "name": "stdout",
     "output_type": "stream",
     "text": [
      "Saving prompt buffer to elevator_transition_20241108_035325.pkl\n"
     ]
    },
    {
     "name": "stderr",
     "output_type": "stream",
     "text": [
      "Correct: 57/65:  16%|█▋        | 65/400 [03:46<17:36,  3.15s/it]"
     ]
    },
    {
     "name": "stdout",
     "output_type": "stream",
     "text": [
      "Saving prompt buffer to elevator_transition_20241108_035325.pkl\n"
     ]
    },
    {
     "name": "stderr",
     "output_type": "stream",
     "text": [
      "Correct: 65/75:  19%|█▉        | 75/400 [04:36<26:28,  4.89s/it]"
     ]
    },
    {
     "name": "stdout",
     "output_type": "stream",
     "text": [
      "Saving prompt buffer to elevator_transition_20241108_035325.pkl\n"
     ]
    },
    {
     "name": "stderr",
     "output_type": "stream",
     "text": [
      "Correct: 75/86:  22%|██▏       | 86/400 [05:16<20:28,  3.91s/it]"
     ]
    },
    {
     "name": "stdout",
     "output_type": "stream",
     "text": [
      "Saving prompt buffer to elevator_transition_20241108_035325.pkl\n"
     ]
    },
    {
     "name": "stderr",
     "output_type": "stream",
     "text": [
      "Correct: 91/104:  26%|██▌       | 104/400 [05:57<11:13,  2.28s/it]"
     ]
    },
    {
     "name": "stdout",
     "output_type": "stream",
     "text": [
      "Saving prompt buffer to elevator_transition_20241108_035325.pkl\n"
     ]
    },
    {
     "name": "stderr",
     "output_type": "stream",
     "text": [
      "Correct: 103/117:  29%|██▉       | 117/400 [06:44<21:30,  4.56s/it]"
     ]
    },
    {
     "name": "stdout",
     "output_type": "stream",
     "text": [
      "Saving prompt buffer to elevator_transition_20241108_035325.pkl\n"
     ]
    },
    {
     "name": "stderr",
     "output_type": "stream",
     "text": [
      "Correct: 109/127:  32%|███▏      | 127/400 [07:35<22:11,  4.88s/it]"
     ]
    },
    {
     "name": "stdout",
     "output_type": "stream",
     "text": [
      "Saving prompt buffer to elevator_transition_20241108_035325.pkl\n"
     ]
    },
    {
     "name": "stderr",
     "output_type": "stream",
     "text": [
      "Correct: 125/143:  36%|███▌      | 143/400 [08:21<14:39,  3.42s/it]"
     ]
    },
    {
     "name": "stdout",
     "output_type": "stream",
     "text": [
      "Saving prompt buffer to elevator_transition_20241108_035325.pkl\n"
     ]
    },
    {
     "name": "stderr",
     "output_type": "stream",
     "text": [
      "Correct: 146/169:  42%|████▏     | 168/400 [09:09<07:02,  1.82s/it]"
     ]
    },
    {
     "name": "stdout",
     "output_type": "stream",
     "text": [
      "Saving prompt buffer to elevator_transition_20241108_035325.pkl\n"
     ]
    },
    {
     "name": "stderr",
     "output_type": "stream",
     "text": [
      "Correct: 160/183:  46%|████▌     | 183/400 [10:01<11:49,  3.27s/it]"
     ]
    },
    {
     "name": "stdout",
     "output_type": "stream",
     "text": [
      "Saving prompt buffer to elevator_transition_20241108_035325.pkl\n"
     ]
    },
    {
     "name": "stderr",
     "output_type": "stream",
     "text": [
      "Correct: 169/193:  48%|████▊     | 193/400 [10:50<15:55,  4.62s/it]"
     ]
    },
    {
     "name": "stdout",
     "output_type": "stream",
     "text": [
      "Saving prompt buffer to elevator_transition_20241108_035325.pkl\n"
     ]
    },
    {
     "name": "stderr",
     "output_type": "stream",
     "text": [
      "Correct: 183/208:  52%|█████▏    | 208/400 [11:40<14:59,  4.69s/it]"
     ]
    },
    {
     "name": "stdout",
     "output_type": "stream",
     "text": [
      "Saving prompt buffer to elevator_transition_20241108_035325.pkl\n"
     ]
    },
    {
     "name": "stderr",
     "output_type": "stream",
     "text": [
      "Correct: 189/218:  55%|█████▍    | 218/400 [12:30<16:18,  5.38s/it]"
     ]
    },
    {
     "name": "stdout",
     "output_type": "stream",
     "text": [
      "Saving prompt buffer to elevator_transition_20241108_035325.pkl\n"
     ]
    },
    {
     "name": "stderr",
     "output_type": "stream",
     "text": [
      "Correct: 194/225:  56%|█████▋    | 225/400 [13:02<12:54,  4.43s/it]"
     ]
    },
    {
     "name": "stdout",
     "output_type": "stream",
     "text": [
      "Error: No match found with fallback regex, using full response as next state\n"
     ]
    },
    {
     "name": "stderr",
     "output_type": "stream",
     "text": [
      "Correct: 197/228:  57%|█████▋    | 228/400 [13:26<19:30,  6.81s/it]"
     ]
    },
    {
     "name": "stdout",
     "output_type": "stream",
     "text": [
      "Saving prompt buffer to elevator_transition_20241108_035325.pkl\n"
     ]
    },
    {
     "name": "stderr",
     "output_type": "stream",
     "text": [
      "Correct: 206/238:  60%|█████▉    | 238/400 [14:27<19:11,  7.11s/it]"
     ]
    },
    {
     "name": "stdout",
     "output_type": "stream",
     "text": [
      "Saving prompt buffer to elevator_transition_20241108_035325.pkl\n"
     ]
    },
    {
     "name": "stderr",
     "output_type": "stream",
     "text": [
      "Correct: 214/248:  62%|██████▏   | 248/400 [15:19<12:04,  4.76s/it]"
     ]
    },
    {
     "name": "stdout",
     "output_type": "stream",
     "text": [
      "Saving prompt buffer to elevator_transition_20241108_035325.pkl\n"
     ]
    },
    {
     "name": "stderr",
     "output_type": "stream",
     "text": [
      "Correct: 221/258:  64%|██████▍   | 258/400 [16:10<11:42,  4.95s/it]"
     ]
    },
    {
     "name": "stdout",
     "output_type": "stream",
     "text": [
      "Saving prompt buffer to elevator_transition_20241108_035325.pkl\n"
     ]
    },
    {
     "name": "stderr",
     "output_type": "stream",
     "text": [
      "Correct: 229/270:  68%|██████▊   | 270/400 [16:58<08:26,  3.89s/it]"
     ]
    },
    {
     "name": "stdout",
     "output_type": "stream",
     "text": [
      "Saving prompt buffer to elevator_transition_20241108_035325.pkl\n"
     ]
    },
    {
     "name": "stderr",
     "output_type": "stream",
     "text": [
      "Correct: 234/276:  69%|██████▉   | 276/400 [17:29<10:24,  5.04s/it]"
     ]
    },
    {
     "name": "stdout",
     "output_type": "stream",
     "text": [
      "Error: No match found with fallback regex, using full response as next state\n"
     ]
    },
    {
     "name": "stderr",
     "output_type": "stream",
     "text": [
      "Correct: 237/280:  70%|███████   | 280/400 [17:49<09:42,  4.85s/it]"
     ]
    },
    {
     "name": "stdout",
     "output_type": "stream",
     "text": [
      "Saving prompt buffer to elevator_transition_20241108_035325.pkl\n"
     ]
    },
    {
     "name": "stderr",
     "output_type": "stream",
     "text": [
      "Correct: 246/290:  72%|███████▎  | 290/400 [18:37<08:47,  4.79s/it]"
     ]
    },
    {
     "name": "stdout",
     "output_type": "stream",
     "text": [
      "Saving prompt buffer to elevator_transition_20241108_035325.pkl\n"
     ]
    },
    {
     "name": "stderr",
     "output_type": "stream",
     "text": [
      "Correct: 256/300:  75%|███████▌  | 300/400 [19:23<07:32,  4.53s/it]"
     ]
    },
    {
     "name": "stdout",
     "output_type": "stream",
     "text": [
      "Saving prompt buffer to elevator_transition_20241108_035325.pkl\n"
     ]
    },
    {
     "name": "stderr",
     "output_type": "stream",
     "text": [
      "Correct: 258/303:  76%|███████▌  | 303/400 [19:38<07:44,  4.79s/it]"
     ]
    },
    {
     "name": "stdout",
     "output_type": "stream",
     "text": [
      "Error: No match found with fallback regex, using full response as next state\n"
     ]
    },
    {
     "name": "stderr",
     "output_type": "stream",
     "text": [
      "Correct: 263/310:  78%|███████▊  | 310/400 [20:12<07:29,  5.00s/it]"
     ]
    },
    {
     "name": "stdout",
     "output_type": "stream",
     "text": [
      "Saving prompt buffer to elevator_transition_20241108_035325.pkl\n"
     ]
    },
    {
     "name": "stderr",
     "output_type": "stream",
     "text": [
      "Correct: 273/325:  81%|████████▏ | 325/400 [20:59<04:46,  3.82s/it]"
     ]
    },
    {
     "name": "stdout",
     "output_type": "stream",
     "text": [
      "Saving prompt buffer to elevator_transition_20241108_035325.pkl\n"
     ]
    },
    {
     "name": "stderr",
     "output_type": "stream",
     "text": [
      "Correct: 282/334:  84%|████████▎ | 334/400 [21:49<06:55,  6.29s/it]"
     ]
    },
    {
     "name": "stdout",
     "output_type": "stream",
     "text": [
      "Error: No match found with fallback regex, using full response as next state\n"
     ]
    },
    {
     "name": "stderr",
     "output_type": "stream",
     "text": [
      "Correct: 282/335:  84%|████████▍ | 335/400 [21:54<06:29,  5.99s/it]"
     ]
    },
    {
     "name": "stdout",
     "output_type": "stream",
     "text": [
      "Saving prompt buffer to elevator_transition_20241108_035325.pkl\n"
     ]
    },
    {
     "name": "stderr",
     "output_type": "stream",
     "text": [
      "Correct: 290/345:  86%|████████▋ | 345/400 [22:50<05:33,  6.06s/it]"
     ]
    },
    {
     "name": "stdout",
     "output_type": "stream",
     "text": [
      "Saving prompt buffer to elevator_transition_20241108_035325.pkl\n"
     ]
    },
    {
     "name": "stderr",
     "output_type": "stream",
     "text": [
      "Correct: 296/355:  89%|████████▉ | 355/400 [23:50<04:11,  5.58s/it]"
     ]
    },
    {
     "name": "stdout",
     "output_type": "stream",
     "text": [
      "Saving prompt buffer to elevator_transition_20241108_035325.pkl\n"
     ]
    },
    {
     "name": "stderr",
     "output_type": "stream",
     "text": [
      "Correct: 304/365:  91%|█████████▏| 365/400 [24:40<02:52,  4.94s/it]"
     ]
    },
    {
     "name": "stdout",
     "output_type": "stream",
     "text": [
      "Saving prompt buffer to elevator_transition_20241108_035325.pkl\n"
     ]
    },
    {
     "name": "stderr",
     "output_type": "stream",
     "text": [
      "Correct: 313/378:  94%|█████████▍| 378/400 [25:33<01:48,  4.93s/it]"
     ]
    },
    {
     "name": "stdout",
     "output_type": "stream",
     "text": [
      "Saving prompt buffer to elevator_transition_20241108_035325.pkl\n"
     ]
    },
    {
     "name": "stderr",
     "output_type": "stream",
     "text": [
      "Correct: 321/390:  98%|█████████▊| 390/400 [26:31<00:49,  4.99s/it]"
     ]
    },
    {
     "name": "stdout",
     "output_type": "stream",
     "text": [
      "Saving prompt buffer to elevator_transition_20241108_035325.pkl\n"
     ]
    },
    {
     "name": "stderr",
     "output_type": "stream",
     "text": [
      "Correct: 330/400: 100%|██████████| 400/400 [27:19<00:00,  4.10s/it]\n"
     ]
    }
   ],
   "source": [
    "import tqdm\n",
    "\n",
    "predicted_states = []\n",
    "status_list = []\n",
    "eval_results = []\n",
    "corrects = 0\n",
    "total = 0\n",
    "\n",
    "pbar = tqdm.tqdm(trajectories_combined)\n",
    "\n",
    "transition_model.debug = False\n",
    "\n",
    "for trajectory in pbar:\n",
    "    state, action, reward, next_state, done = trajectory\n",
    "    state_text, action_text, next_state_text = env.state_to_text(state), env.action_to_text(action), env.state_to_text(next_state)\n",
    "    \n",
    "    while True:\n",
    "        try:\n",
    "            predicted_next_state_text, status = transition_model.get_next_state(state_text, action_text)\n",
    "            break\n",
    "        except:\n",
    "            print(\"Retrying..\")\n",
    "            time.sleep(1)\n",
    "        \n",
    "    \n",
    "    predicted_states.append(predicted_next_state_text)\n",
    "    status_list.append(status)\n",
    "    \n",
    "    eval_result = eval_prediction(state_text, next_state_text, predicted_next_state_text)\n",
    "    \n",
    "    eval_results.append(eval_result)\n",
    "    \n",
    "    if eval_result[\"all_correct\"]:\n",
    "        corrects += 1\n",
    "    total += 1\n",
    "    \n",
    "    pbar.set_description(f\"Correct: {corrects}/{total}\")\n",
    "    \n",
    "states_text = [env.state_to_text(state) for state in states]\n",
    "zipped = list(zip(states_text, predicted_states, eval_results))\n",
    "\n",
    "# save the results\n",
    "\n",
    "with open(\"elevator_transition_results_gpt.pkl\", \"wb\") as f:\n",
    "    pickle.dump(zipped, f)"
   ]
  },
  {
   "cell_type": "code",
   "execution_count": 39,
   "metadata": {},
   "outputs": [
    {
     "data": {
      "text/plain": [
       "0.825"
      ]
     },
     "execution_count": 39,
     "metadata": {},
     "output_type": "execute_result"
    }
   ],
   "source": [
    "accuracy = corrects / total\n",
    "accuracy"
   ]
  }
 ],
 "metadata": {
  "kernelspec": {
   "display_name": "aiplanning",
   "language": "python",
   "name": "python3"
  },
  "language_info": {
   "codemirror_mode": {
    "name": "ipython",
    "version": 3
   },
   "file_extension": ".py",
   "mimetype": "text/x-python",
   "name": "python",
   "nbconvert_exporter": "python",
   "pygments_lexer": "ipython3",
   "version": "3.11.10"
  }
 },
 "nbformat": 4,
 "nbformat_minor": 2
}
