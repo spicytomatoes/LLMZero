{
 "cells": [
  {
   "cell_type": "markdown",
   "metadata": {},
   "source": [
    "# Test accuracy of LLM Transition Model"
   ]
  },
  {
   "cell_type": "code",
   "execution_count": 1,
   "metadata": {},
   "outputs": [],
   "source": [
    "#enable autoreload\n",
    "%load_ext autoreload\n",
    "%autoreload 2"
   ]
  },
  {
   "cell_type": "code",
   "execution_count": 31,
   "metadata": {},
   "outputs": [],
   "source": [
    "import sys\n",
    "\n",
    "sys.path.append('..')\n",
    "\n",
    "from environments.ElevatorEnvironment import ElevatorEnvironment\n",
    "from agents.llmzero import LLMTransitionModel\n",
    "from agents.random_agent import RandomAgent\n",
    "from agents.elevator_expert import ElevatorExpertPolicyAgent\n",
    "\n",
    "import numpy as np\n",
    "import random\n",
    "import matplotlib.pyplot as plt"
   ]
  },
  {
   "cell_type": "markdown",
   "metadata": {},
   "source": [
    "Load default elevator environment"
   ]
  },
  {
   "cell_type": "code",
   "execution_count": 4,
   "metadata": {},
   "outputs": [
    {
     "name": "stdout",
     "output_type": "stream",
     "text": [
      "c:\\Users\\ianch\\miniconda3\\envs\\aiplanning\\Lib\\site-packages\\pyRDDLGym\\Examples c:\\Users\\ianch\\miniconda3\\envs\\aiplanning\\Lib\\site-packages\\pyRDDLGym\\Examples\\manifest.csv\n",
      "Available example environment(s):\n",
      "CartPole_continuous -> A simple continuous state-action MDP for the classical cart-pole system by Rich Sutton, with actions that describe the continuous force applied to the cart.\n",
      "CartPole_discrete -> A simple continuous state MDP for the classical cart-pole system by Rich Sutton, with discrete actions that apply a constant force on either the left or right side of the cart.\n",
      "Elevators -> The Elevator domain models evening rush hours when people from different floors in a building want to go down to the bottom floor using elevators.\n",
      "HVAC -> Multi-zone and multi-heater HVAC control problem\n",
      "MarsRover -> Multi Rover Navigation, where a group of agent needs to harvest mineral.\n",
      "MountainCar -> A simple continuous MDP for the classical mountain car control problem.\n",
      "NewLanguage -> Example with new language features.\n",
      "NewtonZero -> Example with Newton root-finding method.\n",
      "PowerGen_continuous -> A continuous simple power generation problem loosely modeled on the problem of unit commitment.\n",
      "PowerGen_discrete -> A simple power generation problem loosely modeled on the problem of unit commitment.\n",
      "PropDBN -> Simple propositional DBN.\n",
      "RaceCar -> A simple continuous MDP for the racecar problem.\n",
      "RecSim -> A problem of recommendation systems, with consumers and providers.\n",
      "Reservoir_continuous -> Continuous action version of management of the water level in interconnected reservoirs.\n",
      "Reservoir_discrete -> Discrete version of management of the water level in interconnected reservoirs.\n",
      "SupplyChain -> A supply chain with factory and multiple warehouses.\n",
      "SupplyChainNet -> A supply chain network with factory and multiple warehouses.\n",
      "Traffic -> BLX/QTM traffic model.\n",
      "UAV_continuous -> Continuous action space version of multi-UAV problem where a group of UAVs have to reach goal positions in the 3d Space.\n",
      "UAV_discrete -> Discrete action space version of multi-UAV problem where a group of UAVs have to reach goal positions in the 3d Space.\n",
      "UAV_mixed -> Mixed action space version of multi-UAV problem where a group of UAVs have to reach goal positions in the 3d Space.\n",
      "Wildfire -> A boolean version of the wildfire fighting domain.\n",
      "The building has 5 floors and 1 elevators. Each floor has maximum 3 people waiting. Each elevator can carry maximum of 10 people.\n"
     ]
    },
    {
     "name": "stderr",
     "output_type": "stream",
     "text": [
      "c:\\Users\\ianch\\miniconda3\\envs\\aiplanning\\Lib\\site-packages\\pyRDDLGym\\Core\\Env\\RDDLConstraints.py:85: UserWarning: Constraint does not have a structure of <action or state fluent> <op> <rhs>, where:\n",
      "<op> is one of {<=, <, >=, >}\n",
      "<rhs> is a deterministic function of non-fluents or constants only.\n",
      ">> ( sum_{?f: floor} [ elevator-at-floor(?e, ?f) ] ) == 1\n",
      "  warnings.warn(\n"
     ]
    }
   ],
   "source": [
    "env = ElevatorEnvironment()"
   ]
  },
  {
   "cell_type": "markdown",
   "metadata": {},
   "source": [
    "Define agent to generate trajectories for testing and initialize transition model"
   ]
  },
  {
   "cell_type": "code",
   "execution_count": 5,
   "metadata": {},
   "outputs": [],
   "source": [
    "SEED = 42\n",
    "np.random.seed(SEED)\n",
    "random.seed(SEED)"
   ]
  },
  {
   "cell_type": "code",
   "execution_count": 6,
   "metadata": {},
   "outputs": [],
   "source": [
    "random_agent = RandomAgent(env, seed=SEED)\n",
    "expert_agent = ElevatorExpertPolicyAgent()\n",
    "\n",
    "params = {\n",
    "    \"env_params\": {\n",
    "        \"system_prompt_path\": \"../prompts/prompt_elevator_transition.txt\",\n",
    "        \"extract_state_regex\": r\"next state:(.*?)```\",\n",
    "        \"extract_regex_fallback\": [r\"\\*\\*next state:\\*\\*(.*)\", r\"next state:(.*)\"],\n",
    "    },\n",
    "    \"load_prompt_buffer_path\": None, # update this path to the path of the saved prompt buffer   \n",
    "}\n",
    "\n",
    "transition_model = LLMTransitionModel(**params, prompt_buffer_prefix=\"elevator_transition\", debug=True)"
   ]
  },
  {
   "cell_type": "markdown",
   "metadata": {},
   "source": [
    "Generate trajectories for both agents"
   ]
  },
  {
   "cell_type": "code",
   "execution_count": 7,
   "metadata": {},
   "outputs": [],
   "source": [
    "# random agent\n",
    "state, _ = env.reset(SEED)\n",
    "done = False\n",
    "\n",
    "random_agent_trajectory = []\n",
    "\n",
    "while not done:\n",
    "    action = random_agent.act(state)\n",
    "    next_state, reward, done, _, _ = env.step(action)\n",
    "    random_agent_trajectory.append((state, action, reward, next_state, done))\n",
    "    state = next_state\n",
    "    \n",
    "# expert agent\n",
    "state, _ = env.reset(SEED + 1)  # use a different seed for the expert agent\n",
    "done = False\n",
    "\n",
    "expert_agent_trajectory = []\n",
    "\n",
    "while not done:\n",
    "    action = expert_agent.act(state)\n",
    "    next_state, reward, done, _, _ = env.step(action)\n",
    "    expert_agent_trajectory.append((state, action, reward, next_state, done))\n",
    "    state = next_state"
   ]
  },
  {
   "cell_type": "code",
   "execution_count": 8,
   "metadata": {},
   "outputs": [],
   "source": [
    "trajectories_combined = random_agent_trajectory + expert_agent_trajectory"
   ]
  },
  {
   "cell_type": "markdown",
   "metadata": {},
   "source": [
    "### Sanity check test"
   ]
  },
  {
   "cell_type": "code",
   "execution_count": 33,
   "metadata": {},
   "outputs": [
    {
     "name": "stdout",
     "output_type": "stream",
     "text": [
      "State text:\n",
      " People waiting at floor 2: 3\n",
      "People waiting at floor 3: 3\n",
      "People waiting at floor 4: 1\n",
      "People waiting at floor 5: 3\n",
      "Elevator at floor 3.\n",
      "There are 4 people in the elevator.\n",
      "Elevator is moving down.\n",
      "Elevator door is closed.\n",
      "\n",
      "Action text: move\n",
      "Next state text:\n",
      " People waiting at floor 2: 3\n",
      "People waiting at floor 3: 3\n",
      "People waiting at floor 4: 1\n",
      "People waiting at floor 5: 3\n",
      "Elevator at floor 2.\n",
      "There are 4 people in the elevator.\n",
      "Elevator is moving down.\n",
      "Elevator door is closed.\n",
      "\n"
     ]
    }
   ],
   "source": [
    "# test the transition model\n",
    "trajectory = random.choice(trajectories_combined)\n",
    "state_test, action, next_state_test = trajectory[0], trajectory[1], trajectory[3]\n",
    "state_text, action_text, next_state_text = env.state_to_text(state_test), env.action_to_text(action), env.state_to_text(next_state_test)\n",
    "\n",
    "print(\"State text:\\n\", state_text)\n",
    "print(\"Action text:\", action_text)\n",
    "print(\"Next state text:\\n\", next_state_text)"
   ]
  },
  {
   "cell_type": "code",
   "execution_count": 63,
   "metadata": {},
   "outputs": [
    {
     "name": "stdout",
     "output_type": "stream",
     "text": [
      "Warning: No match found, trying fallback regex...\n"
     ]
    }
   ],
   "source": [
    "predicted_next_state_text, status = transition_model.get_next_state(state_text, action_text)"
   ]
  },
  {
   "cell_type": "markdown",
   "metadata": {},
   "source": []
  },
  {
   "cell_type": "code",
   "execution_count": 62,
   "metadata": {},
   "outputs": [
    {
     "name": "stdout",
     "output_type": "stream",
     "text": [
      "\n",
      "People waiting at floor 2: 2\n",
      "People waiting at floor 3: 3\n",
      "People waiting at floor 4: 0\n",
      "People waiting at floor 5: 2\n",
      "Elevator at floor 2.\n",
      "There are 4 people in the elevator.\n",
      "Elevator is moving down.\n",
      "Elevator door is closed.\n"
     ]
    }
   ],
   "source": [
    "print(predicted_next_state_text)"
   ]
  },
  {
   "cell_type": "markdown",
   "metadata": {},
   "source": [
    "### Get results for all trajectories"
   ]
  },
  {
   "cell_type": "code",
   "execution_count": 12,
   "metadata": {},
   "outputs": [],
   "source": [
    "import re\n",
    "\n",
    "def try_get_int(text):\n",
    "    try:\n",
    "        return int(text)\n",
    "    except:\n",
    "        return None\n",
    "\n",
    "def parse_state_text(state_text):\n",
    "    lines = state_text.split(\"\\n\")\n",
    "    people_waiting = []\n",
    "    elevator_floor = None\n",
    "    people_in_elevator = None\n",
    "    elevator_direction = None\n",
    "    door_status = None\n",
    "    \n",
    "    for line in lines:\n",
    "        line = line.strip().lower()\n",
    "        # assuming the lines are in order\n",
    "        if \"people waiting at floor\" in line:\n",
    "            split = line.split(\":\")\n",
    "            # print(\"waiting\", split)\n",
    "            waiting = split[1].strip() if len(split) == 2 else None\n",
    "                \n",
    "            waiting = try_get_int(waiting)            \n",
    "            people_waiting.append(waiting)\n",
    "            \n",
    "        if \"elevator at floor\" in line:\n",
    "            split = line.split(\"floor\")\n",
    "            # print(\"floor\", split)\n",
    "            elevator_floor = split[1].strip() if len(split) == 2 else None\n",
    "            if '.' in elevator_floor:\n",
    "                elevator_floor = elevator_floor.split(\".\")[0]\n",
    "            elevator_floor = try_get_int(elevator_floor)\n",
    "            \n",
    "        if \"people in the elevator\" in line:\n",
    "            #use regex to find the only number in the line\n",
    "            people_in_elevator = re.findall(r'\\d+', line)\n",
    "            people_in_elevator = int(people_in_elevator[0]) if len(people_in_elevator) else None\n",
    "            \n",
    "        if \"elevator is moving\" in line:\n",
    "            elevator_direction = \"up\" if \"up\" in line else \"down\" if \"down\" in line else None\n",
    "            \n",
    "        if \"elevator door is\" in line:\n",
    "            door_status = \"open\" if \"open\" in line else \"closed\" if \"closed\" in line else None\n",
    "            \n",
    "    # check for parse failure\n",
    "    failure_flag = False\n",
    "    \n",
    "    if len(people_waiting) == 0 or None in people_waiting:\n",
    "        failure_flag = True\n",
    "    if None in [elevator_floor, people_in_elevator, elevator_direction, door_status]:\n",
    "        failure_flag = True\n",
    "        \n",
    "    out = {\n",
    "        \"people_waiting\": people_waiting,\n",
    "        \"elevator_floor\": elevator_floor,\n",
    "        \"people_in_elevator\": people_in_elevator,\n",
    "        \"elevator_direction\": elevator_direction,\n",
    "        \"door_status\": door_status,\n",
    "        \"failure_flag\": failure_flag\n",
    "    }  \n",
    "    \n",
    "    return out           \n",
    "        "
   ]
  },
  {
   "cell_type": "code",
   "execution_count": 13,
   "metadata": {},
   "outputs": [
    {
     "name": "stdout",
     "output_type": "stream",
     "text": [
      "All states parsed successfully\n",
      "{'people_waiting': [1, 1, 2, 2], 'elevator_floor': 4, 'people_in_elevator': 0, 'elevator_direction': 'up', 'door_status': 'closed', 'failure_flag': False}\n"
     ]
    }
   ],
   "source": [
    "# sanity check for ground truth states\n",
    "states = [trajectory[0] for trajectory in trajectories_combined]\n",
    "state_texts = [env.state_to_text(state) for state in states]\n",
    "\n",
    "for state_text in state_texts:\n",
    "    parsed_state = parse_state_text(state_text)\n",
    "    if parsed_state[\"failure_flag\"]:\n",
    "        print(\"Failed to parse state text\")\n",
    "        print(state_text)\n",
    "        print(parsed_state)\n",
    "else:\n",
    "    print(\"All states parsed successfully\")\n",
    "    print(parsed_state)"
   ]
  },
  {
   "cell_type": "code",
   "execution_count": 14,
   "metadata": {},
   "outputs": [],
   "source": [
    "def eval_prediction(current_state_text, next_state_text, predicted_next_state_text):\n",
    "    '''\n",
    "    Evaluate the correctness of the predicted next state.\n",
    "    \n",
    "    For people waiting:\n",
    "        - check if the number of people is not above 3.\n",
    "        - check if the number is equal or more than the current state.\n",
    "            - If it is more, check if the elevator picked up the passengers on that floor.\n",
    "        \n",
    "    For elevator floor, people in elevator, elevator direction, and door status:\n",
    "        - check if the predicted values are the same as the ground truth values\n",
    "        \n",
    "    Returns a dictionary indicating if each field is correct or not.\n",
    "    '''\n",
    "    \n",
    "    state = parse_state_text(current_state_text)\n",
    "    next_state = parse_state_text(next_state_text)\n",
    "    predicted_next_state = parse_state_text(predicted_next_state_text)\n",
    "            \n",
    "    elevator_floor_correct = next_state[\"elevator_floor\"] == predicted_next_state[\"elevator_floor\"]\n",
    "    people_in_elevator_correct = next_state[\"people_in_elevator\"] == predicted_next_state[\"people_in_elevator\"]\n",
    "    elevator_direction_correct = next_state[\"elevator_direction\"] == predicted_next_state[\"elevator_direction\"]\n",
    "    door_status_correct = next_state[\"door_status\"] == predicted_next_state[\"door_status\"]\n",
    "    \n",
    "    people_waiting_correct = False\n",
    "    \n",
    "    if len(next_state[\"people_waiting\"]) == len(predicted_next_state[\"people_waiting\"]):\n",
    "        for i, (waiting, predicted_waiting) in enumerate(zip(state[\"people_waiting\"], state[\"people_waiting\"])):\n",
    "            if predicted_waiting is None:\n",
    "                people_waiting_correct = False\n",
    "                break\n",
    "            if  predicted_waiting > 3:\n",
    "                people_waiting_correct = False\n",
    "                break\n",
    "            if predicted_waiting < waiting:\n",
    "                #check if the elevator picked up the passengers on that floor\n",
    "                #pre-requisite: previous status all correct\n",
    "                if not all([elevator_floor_correct, people_in_elevator_correct, elevator_direction_correct, door_status_correct]):\n",
    "                    people_waiting_correct = False\n",
    "                    break\n",
    "                else:\n",
    "                    floor = i + 2\n",
    "                    \n",
    "                    cond_1 = next_state[\"elevator_floor\"] == floor\n",
    "                    cond_2 = next_state[\"door_status\"] == \"open\"\n",
    "                    cond_3 = predicted_waiting == 0\n",
    "                    \n",
    "                    if not all([cond_1, cond_2, cond_3]):\n",
    "                        people_waiting_correct = False\n",
    "                        break \n",
    "                                  \n",
    "        else:\n",
    "            people_waiting_correct = True\n",
    "    \n",
    "    \n",
    "    has_parse_failure = predicted_next_state[\"failure_flag\"]\n",
    "    \n",
    "    out = {\n",
    "        \"people_waiting\": people_waiting_correct,\n",
    "        \"elevator_floor\": elevator_floor_correct,\n",
    "        \"people_in_elevator\": people_in_elevator_correct,\n",
    "        \"elevator_direction\": elevator_direction_correct,\n",
    "        \"door_status\": door_status_correct,\n",
    "        \"has_parse_failure\": has_parse_failure\n",
    "    }\n",
    "    \n",
    "    all_correct = all([v for k, v in out.items() if k != \"has_parse_failure\"])\n",
    "    out[\"all_correct\"] = all_correct\n",
    "    \n",
    "    return out    "
   ]
  },
  {
   "cell_type": "code",
   "execution_count": 16,
   "metadata": {},
   "outputs": [
    {
     "name": "stdout",
     "output_type": "stream",
     "text": [
      "All predictions correct\n"
     ]
    }
   ],
   "source": [
    "# sanity test with gt next state\n",
    "next_states = [trajectory[3] for trajectory in trajectories_combined]\n",
    "next_state_texts = [env.state_to_text(state) for state in next_states]\n",
    "\n",
    "for state_text, next_state_text in zip(state_texts, next_state_texts):\n",
    "    predicted_next_state_text = next_state_text\n",
    "    prediction_eval = eval_prediction(state_text, next_state_text, predicted_next_state_text)\n",
    "    \n",
    "    #should be all correct\n",
    "    if not prediction_eval[\"all_correct\"]:\n",
    "        print(\"Failed to predict next state\")\n",
    "        print(state_text)\n",
    "        print(next_state_text)\n",
    "        print(predicted_next_state_text)\n",
    "        print(prediction_eval)\n",
    "        \n",
    "        break\n",
    "    \n",
    "else:\n",
    "    print(\"All predictions correct\")"
   ]
  },
  {
   "cell_type": "code",
   "execution_count": 105,
   "metadata": {},
   "outputs": [
    {
     "name": "stderr",
     "output_type": "stream",
     "text": [
      "Correct: 39/61:   0%|          | 0/400 [00:00<?, ?it/s]"
     ]
    },
    {
     "name": "stdout",
     "output_type": "stream",
     "text": [
      "Error: No match found with fallback regex, using full response as next state\n",
      "Error: No match found with fallback regex, using full response as next state\n",
      "Error: No match found with fallback regex, using full response as next state\n",
      "Error: No match found with fallback regex, using full response as next state\n",
      "Error: No match found with fallback regex, using full response as next state\n"
     ]
    },
    {
     "name": "stderr",
     "output_type": "stream",
     "text": [
      "Correct: 40/64:  16%|█▌        | 64/400 [00:06<00:39,  8.59it/s]"
     ]
    },
    {
     "name": "stdout",
     "output_type": "stream",
     "text": [
      "Error: No match found with fallback regex, using full response as next state\n"
     ]
    },
    {
     "name": "stderr",
     "output_type": "stream",
     "text": [
      "Correct: 41/65:  16%|█▋        | 65/400 [00:09<01:10,  4.74it/s]"
     ]
    },
    {
     "name": "stdout",
     "output_type": "stream",
     "text": [
      "Saving prompt buffer to elevator_transition_20241108_013120.pkl\n"
     ]
    },
    {
     "name": "stderr",
     "output_type": "stream",
     "text": [
      "Correct: 46/73:  18%|█▊        | 73/400 [00:35<10:00,  1.84s/it]"
     ]
    },
    {
     "name": "stdout",
     "output_type": "stream",
     "text": [
      "Error: No match found with fallback regex, using full response as next state\n"
     ]
    },
    {
     "name": "stderr",
     "output_type": "stream",
     "text": [
      "Correct: 48/75:  19%|█▉        | 75/400 [00:42<13:21,  2.47s/it]"
     ]
    },
    {
     "name": "stdout",
     "output_type": "stream",
     "text": [
      "Saving prompt buffer to elevator_transition_20241108_013120.pkl\n"
     ]
    },
    {
     "name": "stderr",
     "output_type": "stream",
     "text": [
      "Correct: 49/76:  19%|█▉        | 76/400 [00:46<15:18,  2.83s/it]"
     ]
    },
    {
     "name": "stdout",
     "output_type": "stream",
     "text": [
      "Retrying..\n",
      "Retrying..\n",
      "Retrying..\n",
      "Retrying..\n"
     ]
    },
    {
     "name": "stderr",
     "output_type": "stream",
     "text": [
      "Correct: 49/77:  19%|█▉        | 77/400 [01:03<36:26,  6.77s/it]"
     ]
    },
    {
     "name": "stdout",
     "output_type": "stream",
     "text": [
      "Retrying..\n"
     ]
    },
    {
     "name": "stderr",
     "output_type": "stream",
     "text": [
      "Correct: 50/79:  20%|█▉        | 79/400 [01:14<31:06,  5.82s/it]"
     ]
    },
    {
     "name": "stdout",
     "output_type": "stream",
     "text": [
      "Error: No match found with fallback regex, using full response as next state\n"
     ]
    },
    {
     "name": "stderr",
     "output_type": "stream",
     "text": [
      "Correct: 52/82:  20%|██        | 82/400 [01:24<21:06,  3.98s/it]"
     ]
    },
    {
     "name": "stdout",
     "output_type": "stream",
     "text": [
      "Retrying..\n"
     ]
    },
    {
     "name": "stderr",
     "output_type": "stream",
     "text": [
      "Correct: 54/86:  22%|██▏       | 86/400 [01:41<22:05,  4.22s/it]"
     ]
    },
    {
     "name": "stdout",
     "output_type": "stream",
     "text": [
      "Saving prompt buffer to elevator_transition_20241108_013120.pkl\n"
     ]
    },
    {
     "name": "stderr",
     "output_type": "stream",
     "text": [
      "Correct: 56/90:  22%|██▏       | 87/400 [01:45<20:17,  3.89s/it]"
     ]
    },
    {
     "name": "stdout",
     "output_type": "stream",
     "text": [
      "Error: No match found with fallback regex, using full response as next state\n",
      "Error: No match found with fallback regex, using full response as next state\n"
     ]
    },
    {
     "name": "stderr",
     "output_type": "stream",
     "text": [
      "Correct: 57/92:  23%|██▎       | 92/400 [01:54<13:04,  2.55s/it]"
     ]
    },
    {
     "name": "stdout",
     "output_type": "stream",
     "text": [
      "Error: No match found with fallback regex, using full response as next state\n"
     ]
    },
    {
     "name": "stderr",
     "output_type": "stream",
     "text": [
      "Correct: 65/104:  26%|██▌       | 104/400 [02:23<10:52,  2.20s/it]"
     ]
    },
    {
     "name": "stdout",
     "output_type": "stream",
     "text": [
      "Saving prompt buffer to elevator_transition_20241108_013120.pkl\n"
     ]
    },
    {
     "name": "stderr",
     "output_type": "stream",
     "text": [
      "Correct: 71/112:  28%|██▊       | 112/400 [02:44<11:15,  2.34s/it]"
     ]
    },
    {
     "name": "stdout",
     "output_type": "stream",
     "text": [
      "Error: No match found with fallback regex, using full response as next state\n"
     ]
    },
    {
     "name": "stderr",
     "output_type": "stream",
     "text": [
      "Correct: 75/117:  29%|██▉       | 117/400 [03:07<18:51,  4.00s/it]"
     ]
    },
    {
     "name": "stdout",
     "output_type": "stream",
     "text": [
      "Saving prompt buffer to elevator_transition_20241108_013120.pkl\n"
     ]
    },
    {
     "name": "stderr",
     "output_type": "stream",
     "text": [
      "Correct: 81/127:  32%|███▏      | 127/400 [03:50<19:17,  4.24s/it]"
     ]
    },
    {
     "name": "stdout",
     "output_type": "stream",
     "text": [
      "Saving prompt buffer to elevator_transition_20241108_013120.pkl\n"
     ]
    },
    {
     "name": "stderr",
     "output_type": "stream",
     "text": [
      "Correct: 85/134:  33%|███▎      | 132/400 [04:07<14:36,  3.27s/it]"
     ]
    },
    {
     "name": "stdout",
     "output_type": "stream",
     "text": [
      "Error: No match found with fallback regex, using full response as next state\n"
     ]
    },
    {
     "name": "stderr",
     "output_type": "stream",
     "text": [
      "Correct: 88/143:  36%|███▌      | 143/400 [04:33<12:58,  3.03s/it]"
     ]
    },
    {
     "name": "stdout",
     "output_type": "stream",
     "text": [
      "Saving prompt buffer to elevator_transition_20241108_013120.pkl\n"
     ]
    },
    {
     "name": "stderr",
     "output_type": "stream",
     "text": [
      "Correct: 109/167:  42%|████▏     | 166/400 [05:11<05:12,  1.34s/it]"
     ]
    },
    {
     "name": "stdout",
     "output_type": "stream",
     "text": [
      "Error: No match found with fallback regex, using full response as next state\n"
     ]
    },
    {
     "name": "stderr",
     "output_type": "stream",
     "text": [
      "Correct: 109/169:  42%|████▏     | 168/400 [05:17<06:40,  1.73s/it]"
     ]
    },
    {
     "name": "stdout",
     "output_type": "stream",
     "text": [
      "Saving prompt buffer to elevator_transition_20241108_013120.pkl\n"
     ]
    },
    {
     "name": "stderr",
     "output_type": "stream",
     "text": [
      "Correct: 116/183:  46%|████▌     | 183/400 [05:56<08:18,  2.30s/it]"
     ]
    },
    {
     "name": "stdout",
     "output_type": "stream",
     "text": [
      "Saving prompt buffer to elevator_transition_20241108_013120.pkl\n",
      "Error: No match found with fallback regex, using full response as next state\n",
      "Retrying..\n"
     ]
    },
    {
     "name": "stderr",
     "output_type": "stream",
     "text": [
      "Correct: 116/184:  46%|████▌     | 184/400 [06:01<10:23,  2.89s/it]"
     ]
    },
    {
     "name": "stdout",
     "output_type": "stream",
     "text": [
      "Error: No match found with fallback regex, using full response as next state\n"
     ]
    },
    {
     "name": "stderr",
     "output_type": "stream",
     "text": [
      "Correct: 121/191:  48%|████▊     | 191/400 [06:32<13:50,  3.97s/it]"
     ]
    },
    {
     "name": "stdout",
     "output_type": "stream",
     "text": [
      "Error: No match found with fallback regex, using full response as next state\n"
     ]
    },
    {
     "name": "stderr",
     "output_type": "stream",
     "text": [
      "Correct: 122/193:  48%|████▊     | 193/400 [06:40<12:55,  3.74s/it]"
     ]
    },
    {
     "name": "stdout",
     "output_type": "stream",
     "text": [
      "Saving prompt buffer to elevator_transition_20241108_013120.pkl\n",
      "Error: No match found with fallback regex, using full response as next state\n"
     ]
    },
    {
     "name": "stderr",
     "output_type": "stream",
     "text": [
      "Correct: 129/204:  51%|█████     | 204/400 [07:05<08:11,  2.51s/it]"
     ]
    },
    {
     "name": "stdout",
     "output_type": "stream",
     "text": [
      "Error: No match found with fallback regex, using full response as next state\n",
      "Retrying..\n"
     ]
    },
    {
     "name": "stderr",
     "output_type": "stream",
     "text": [
      "Correct: 133/208:  52%|█████▏    | 208/400 [07:24<12:03,  3.77s/it]"
     ]
    },
    {
     "name": "stdout",
     "output_type": "stream",
     "text": [
      "Saving prompt buffer to elevator_transition_20241108_013120.pkl\n"
     ]
    },
    {
     "name": "stderr",
     "output_type": "stream",
     "text": [
      "Correct: 140/218:  55%|█████▍    | 218/400 [08:07<13:06,  4.32s/it]"
     ]
    },
    {
     "name": "stdout",
     "output_type": "stream",
     "text": [
      "Saving prompt buffer to elevator_transition_20241108_013120.pkl\n"
     ]
    },
    {
     "name": "stderr",
     "output_type": "stream",
     "text": [
      "Correct: 145/228:  57%|█████▋    | 228/400 [08:50<12:02,  4.20s/it]"
     ]
    },
    {
     "name": "stdout",
     "output_type": "stream",
     "text": [
      "Saving prompt buffer to elevator_transition_20241108_013120.pkl\n"
     ]
    },
    {
     "name": "stderr",
     "output_type": "stream",
     "text": [
      "Correct: 147/231:  58%|█████▊    | 231/400 [09:01<10:36,  3.77s/it]"
     ]
    },
    {
     "name": "stdout",
     "output_type": "stream",
     "text": [
      "Error: No match found with fallback regex, using full response as next state\n"
     ]
    },
    {
     "name": "stderr",
     "output_type": "stream",
     "text": [
      "Correct: 150/236:  59%|█████▉    | 236/400 [09:22<09:42,  3.55s/it]"
     ]
    },
    {
     "name": "stdout",
     "output_type": "stream",
     "text": [
      "Error: No match found with fallback regex, using full response as next state\n",
      "Retrying..\n"
     ]
    },
    {
     "name": "stderr",
     "output_type": "stream",
     "text": [
      "Correct: 151/238:  60%|█████▉    | 238/400 [09:31<10:30,  3.89s/it]"
     ]
    },
    {
     "name": "stdout",
     "output_type": "stream",
     "text": [
      "Saving prompt buffer to elevator_transition_20241108_013120.pkl\n",
      "Error: No match found with fallback regex, using full response as next state\n"
     ]
    },
    {
     "name": "stderr",
     "output_type": "stream",
     "text": [
      "Correct: 151/239:  60%|█████▉    | 239/400 [09:35<10:45,  4.01s/it]"
     ]
    },
    {
     "name": "stdout",
     "output_type": "stream",
     "text": [
      "Error: No match found with fallback regex, using full response as next state\n"
     ]
    },
    {
     "name": "stderr",
     "output_type": "stream",
     "text": [
      "Correct: 156/248:  62%|██████▏   | 248/400 [10:15<10:44,  4.24s/it]"
     ]
    },
    {
     "name": "stdout",
     "output_type": "stream",
     "text": [
      "Saving prompt buffer to elevator_transition_20241108_013120.pkl\n"
     ]
    },
    {
     "name": "stderr",
     "output_type": "stream",
     "text": [
      "Correct: 163/258:  64%|██████▍   | 258/400 [11:00<10:29,  4.43s/it]"
     ]
    },
    {
     "name": "stdout",
     "output_type": "stream",
     "text": [
      "Saving prompt buffer to elevator_transition_20241108_013120.pkl\n"
     ]
    },
    {
     "name": "stderr",
     "output_type": "stream",
     "text": [
      "Correct: 172/270:  68%|██████▊   | 270/400 [11:44<08:01,  3.70s/it]"
     ]
    },
    {
     "name": "stdout",
     "output_type": "stream",
     "text": [
      "Saving prompt buffer to elevator_transition_20241108_013120.pkl\n"
     ]
    },
    {
     "name": "stderr",
     "output_type": "stream",
     "text": [
      "Correct: 173/273:  68%|██████▊   | 273/400 [11:57<08:08,  3.85s/it]"
     ]
    },
    {
     "name": "stdout",
     "output_type": "stream",
     "text": [
      "Error: No match found with fallback regex, using full response as next state\n"
     ]
    },
    {
     "name": "stderr",
     "output_type": "stream",
     "text": [
      "Correct: 178/279:  70%|██████▉   | 279/400 [12:23<07:47,  3.86s/it]"
     ]
    },
    {
     "name": "stdout",
     "output_type": "stream",
     "text": [
      "Error: No match found with fallback regex, using full response as next state\n"
     ]
    },
    {
     "name": "stderr",
     "output_type": "stream",
     "text": [
      "Correct: 179/280:  70%|███████   | 280/400 [12:28<08:53,  4.44s/it]"
     ]
    },
    {
     "name": "stdout",
     "output_type": "stream",
     "text": [
      "Saving prompt buffer to elevator_transition_20241108_013120.pkl\n"
     ]
    },
    {
     "name": "stderr",
     "output_type": "stream",
     "text": [
      "Correct: 182/284:  71%|███████   | 284/400 [12:44<07:23,  3.82s/it]"
     ]
    },
    {
     "name": "stdout",
     "output_type": "stream",
     "text": [
      "Error: No match found with fallback regex, using full response as next state\n",
      "Retrying..\n"
     ]
    },
    {
     "name": "stderr",
     "output_type": "stream",
     "text": [
      "Correct: 186/290:  72%|███████▎  | 290/400 [13:11<07:38,  4.17s/it]"
     ]
    },
    {
     "name": "stdout",
     "output_type": "stream",
     "text": [
      "Saving prompt buffer to elevator_transition_20241108_013120.pkl\n"
     ]
    },
    {
     "name": "stderr",
     "output_type": "stream",
     "text": [
      "Correct: 192/300:  75%|███████▌  | 300/400 [13:52<06:06,  3.67s/it]"
     ]
    },
    {
     "name": "stdout",
     "output_type": "stream",
     "text": [
      "Saving prompt buffer to elevator_transition_20241108_013120.pkl\n",
      "Error: No match found with fallback regex, using full response as next state\n",
      "Retrying..\n"
     ]
    },
    {
     "name": "stderr",
     "output_type": "stream",
     "text": [
      "Correct: 193/305:  76%|███████▋  | 305/400 [14:15<05:43,  3.62s/it]"
     ]
    },
    {
     "name": "stdout",
     "output_type": "stream",
     "text": [
      "Error: No match found with fallback regex, using full response as next state\n"
     ]
    },
    {
     "name": "stderr",
     "output_type": "stream",
     "text": [
      "Correct: 193/306:  76%|███████▋  | 306/400 [14:17<04:58,  3.18s/it]"
     ]
    },
    {
     "name": "stdout",
     "output_type": "stream",
     "text": [
      "Error: No match found with fallback regex, using full response as next state\n"
     ]
    },
    {
     "name": "stderr",
     "output_type": "stream",
     "text": [
      "Correct: 193/307:  77%|███████▋  | 307/400 [14:21<05:06,  3.30s/it]"
     ]
    },
    {
     "name": "stdout",
     "output_type": "stream",
     "text": [
      "Retrying..\n"
     ]
    },
    {
     "name": "stderr",
     "output_type": "stream",
     "text": [
      "Correct: 195/310:  78%|███████▊  | 310/400 [14:37<06:28,  4.32s/it]"
     ]
    },
    {
     "name": "stdout",
     "output_type": "stream",
     "text": [
      "Saving prompt buffer to elevator_transition_20241108_013120.pkl\n"
     ]
    },
    {
     "name": "stderr",
     "output_type": "stream",
     "text": [
      "Correct: 205/325:  81%|████████▏ | 325/400 [15:18<03:39,  2.93s/it]"
     ]
    },
    {
     "name": "stdout",
     "output_type": "stream",
     "text": [
      "Saving prompt buffer to elevator_transition_20241108_013120.pkl\n",
      "Error: No match found with fallback regex, using full response as next state\n"
     ]
    },
    {
     "name": "stderr",
     "output_type": "stream",
     "text": [
      "Correct: 213/335:  84%|████████▍ | 335/400 [16:03<04:27,  4.12s/it]"
     ]
    },
    {
     "name": "stdout",
     "output_type": "stream",
     "text": [
      "Saving prompt buffer to elevator_transition_20241108_013120.pkl\n"
     ]
    },
    {
     "name": "stderr",
     "output_type": "stream",
     "text": [
      "Correct: 213/336:  84%|████████▍ | 336/400 [16:05<03:55,  3.68s/it]"
     ]
    },
    {
     "name": "stdout",
     "output_type": "stream",
     "text": [
      "Error: No match found with fallback regex, using full response as next state\n"
     ]
    },
    {
     "name": "stderr",
     "output_type": "stream",
     "text": [
      "Correct: 220/345:  86%|████████▋ | 345/400 [16:44<03:39,  3.99s/it]"
     ]
    },
    {
     "name": "stdout",
     "output_type": "stream",
     "text": [
      "Saving prompt buffer to elevator_transition_20241108_013120.pkl\n"
     ]
    },
    {
     "name": "stderr",
     "output_type": "stream",
     "text": [
      "Correct: 227/355:  89%|████████▉ | 355/400 [17:25<03:14,  4.31s/it]"
     ]
    },
    {
     "name": "stdout",
     "output_type": "stream",
     "text": [
      "Saving prompt buffer to elevator_transition_20241108_013120.pkl\n"
     ]
    },
    {
     "name": "stderr",
     "output_type": "stream",
     "text": [
      "Correct: 234/365:  91%|█████████▏| 365/400 [18:07<02:29,  4.26s/it]"
     ]
    },
    {
     "name": "stdout",
     "output_type": "stream",
     "text": [
      "Saving prompt buffer to elevator_transition_20241108_013120.pkl\n"
     ]
    },
    {
     "name": "stderr",
     "output_type": "stream",
     "text": [
      "Correct: 244/378:  94%|█████████▍| 378/400 [18:50<01:23,  3.80s/it]"
     ]
    },
    {
     "name": "stdout",
     "output_type": "stream",
     "text": [
      "Saving prompt buffer to elevator_transition_20241108_013120.pkl\n"
     ]
    },
    {
     "name": "stderr",
     "output_type": "stream",
     "text": [
      "Correct: 249/385:  96%|█████████▌| 383/400 [19:11<01:11,  4.20s/it]"
     ]
    },
    {
     "name": "stdout",
     "output_type": "stream",
     "text": [
      "Error: No match found with fallback regex, using full response as next state\n"
     ]
    },
    {
     "name": "stderr",
     "output_type": "stream",
     "text": [
      "Correct: 249/388:  97%|█████████▋| 388/400 [19:22<00:32,  2.72s/it]"
     ]
    },
    {
     "name": "stdout",
     "output_type": "stream",
     "text": [
      "Error: No match found with fallback regex, using full response as next state\n",
      "Retrying..\n"
     ]
    },
    {
     "name": "stderr",
     "output_type": "stream",
     "text": [
      "Correct: 250/390:  98%|█████████▊| 390/400 [19:34<00:39,  3.98s/it]"
     ]
    },
    {
     "name": "stdout",
     "output_type": "stream",
     "text": [
      "Saving prompt buffer to elevator_transition_20241108_013120.pkl\n"
     ]
    },
    {
     "name": "stderr",
     "output_type": "stream",
     "text": [
      "Correct: 250/391:  98%|█████████▊| 391/400 [19:35<00:29,  3.26s/it]"
     ]
    },
    {
     "name": "stdout",
     "output_type": "stream",
     "text": [
      "Error: No match found with fallback regex, using full response as next state\n",
      "Retrying..\n"
     ]
    },
    {
     "name": "stderr",
     "output_type": "stream",
     "text": [
      "Correct: 252/396:  99%|█████████▉| 395/400 [19:54<00:20,  4.14s/it]"
     ]
    },
    {
     "name": "stdout",
     "output_type": "stream",
     "text": [
      "Error: No match found with fallback regex, using full response as next state\n"
     ]
    },
    {
     "name": "stderr",
     "output_type": "stream",
     "text": [
      "Correct: 256/400: 100%|██████████| 400/400 [20:11<00:00,  3.03s/it]\n"
     ]
    }
   ],
   "source": [
    "import tqdm\n",
    "import time\n",
    "\n",
    "predicted_states = []\n",
    "status_list = []\n",
    "eval_results = []\n",
    "corrects = 0\n",
    "total = 0\n",
    "\n",
    "pbar = tqdm.tqdm(trajectories_combined)\n",
    "\n",
    "transition_model.debug = False\n",
    "\n",
    "for trajectory in pbar:\n",
    "    state, action, reward, next_state, done = trajectory\n",
    "    state_text, action_text, next_state_text = env.state_to_text(state), env.action_to_text(action), env.state_to_text(next_state)\n",
    "    \n",
    "    while True:\n",
    "        try:\n",
    "            predicted_next_state_text, status = transition_model.get_next_state(state_text, action_text)\n",
    "            break\n",
    "        except:\n",
    "            print(\"Retrying..\")\n",
    "            time.sleep(1)\n",
    "        \n",
    "    \n",
    "    predicted_states.append(predicted_next_state_text)\n",
    "    status_list.append(status)\n",
    "    \n",
    "    eval_result = eval_prediction(state_text, next_state_text, predicted_next_state_text)\n",
    "    \n",
    "    eval_results.append(eval_result)\n",
    "    \n",
    "    if eval_result[\"all_correct\"]:\n",
    "        corrects += 1\n",
    "    total += 1\n",
    "    \n",
    "    pbar.set_description(f\"Correct: {corrects}/{total}\")\n",
    "    "
   ]
  },
  {
   "cell_type": "code",
   "execution_count": 106,
   "metadata": {},
   "outputs": [
    {
     "name": "stdout",
     "output_type": "stream",
     "text": [
      "Accuracy: 0.64\n"
     ]
    }
   ],
   "source": [
    "accuracy = corrects / total\n",
    "print(\"Accuracy:\", accuracy)"
   ]
  },
  {
   "cell_type": "markdown",
   "metadata": {},
   "source": [
    "### Explore the failure cases"
   ]
  },
  {
   "cell_type": "code",
   "execution_count": 17,
   "metadata": {},
   "outputs": [],
   "source": [
    "import pickle\n",
    "\n",
    "# states_text = [env.state_to_text(state) for state in states]\n",
    "# zipped = list(zip(states_text, predicted_states, eval_results))\n",
    "\n",
    "# # save the results\n",
    "\n",
    "# with open(\"elevator_transition_results_mistral.pkl\", \"wb\") as f:\n",
    "#     pickle.dump(zipped, f)\n",
    "\n",
    "with open(\"elevator_transition_results_mistral.pkl\", \"rb\") as f:\n",
    "    zipped = pickle.load(f)"
   ]
  },
  {
   "cell_type": "code",
   "execution_count": 18,
   "metadata": {},
   "outputs": [
    {
     "name": "stdout",
     "output_type": "stream",
     "text": [
      "Parse failures: 46 out of 400\n"
     ]
    }
   ],
   "source": [
    "parse_failures = [z for z in zipped if z[2][\"has_parse_failure\"]]\n",
    "\n",
    "print(f\"Parse failures: {len(parse_failures)} out of {len(zipped)}\")"
   ]
  },
  {
   "cell_type": "code",
   "execution_count": 117,
   "metadata": {},
   "outputs": [
    {
     "name": "stdout",
     "output_type": "stream",
     "text": [
      "People waiting at floor 2: 2\n",
      "People waiting at floor 3: 1\n",
      "People waiting at floor 4: 1\n",
      "People waiting at floor 5: 3\n",
      "Elevator at floor 1.\n",
      "There are 0 people in the elevator.\n",
      "Elevator is moving up.\n",
      "Elevator door is closed.\n",
      "\n",
      "\n",
      "People waiting at floor 2: 3 (2 existing + 1 new)\n",
      "People waiting at floor 3: 1\n",
      "People waiting at floor 4: 2 (1 existing + 1 new)\n",
      "People waiting at floor 5: 3\n",
      "Elevator at floor 1.\n",
      "There are 0 people in the elevator.\n",
      "Elevator is moving up.\n",
      "Elevator door is closed.\n",
      "{'people_waiting': True, 'elevator_floor': True, 'people_in_elevator': True, 'elevator_direction': True, 'door_status': True, 'has_parse_failure': True, 'all_correct': True}\n"
     ]
    }
   ],
   "source": [
    "parse_fail = parse_failures[3]\n",
    "state_text, predicted_next_state_text, eval_result = parse_fail\n",
    "print(state_text)\n",
    "print(predicted_next_state_text)\n",
    "print(eval_result)"
   ]
  },
  {
   "cell_type": "markdown",
   "metadata": {},
   "source": [
    "Rerun with OPENAI"
   ]
  },
  {
   "cell_type": "code",
   "execution_count": null,
   "metadata": {},
   "outputs": [
    {
     "data": {
      "text/plain": [
       "'gpt-4o-mini'"
      ]
     },
     "execution_count": 33,
     "metadata": {},
     "output_type": "execute_result"
    }
   ],
   "source": [
    "# change .env to use openai and restart the kernel\n",
    "\n",
    "transition_model = LLMTransitionModel(**params, prompt_buffer_prefix=\"elevator_transition\", debug=False)\n",
    "transition_model.llm_model"
   ]
  },
  {
   "cell_type": "code",
   "execution_count": 35,
   "metadata": {},
   "outputs": [
    {
     "name": "stdout",
     "output_type": "stream",
     "text": [
      "False\n"
     ]
    }
   ],
   "source": [
    "print(os.getenv(\"USE_OPENAI_CUSTOM\"))"
   ]
  },
  {
   "cell_type": "code",
   "execution_count": null,
   "metadata": {},
   "outputs": [],
   "source": [
    "predicted_states = []\n",
    "status_list = []\n",
    "eval_results = []\n",
    "corrects = 0\n",
    "total = 0\n",
    "\n",
    "pbar = tqdm.tqdm(trajectories_combined)\n",
    "\n",
    "transition_model.debug = False\n",
    "\n",
    "for trajectory in pbar:\n",
    "    state, action, reward, next_state, done = trajectory\n",
    "    state_text, action_text, next_state_text = env.state_to_text(state), env.action_to_text(action), env.state_to_text(next_state)\n",
    "    \n",
    "    while True:\n",
    "        try:\n",
    "            predicted_next_state_text, status = transition_model.get_next_state(state_text, action_text)\n",
    "            break\n",
    "        except:\n",
    "            print(\"Retrying..\")\n",
    "            time.sleep(1)\n",
    "        \n",
    "    \n",
    "    predicted_states.append(predicted_next_state_text)\n",
    "    status_list.append(status)\n",
    "    \n",
    "    eval_result = eval_prediction(state_text, next_state_text, predicted_next_state_text)\n",
    "    \n",
    "    eval_results.append(eval_result)\n",
    "    \n",
    "    if eval_result[\"all_correct\"]:\n",
    "        corrects += 1\n",
    "    total += 1\n",
    "    \n",
    "    pbar.set_description(f\"Correct: {corrects}/{total}\")"
   ]
  }
 ],
 "metadata": {
  "kernelspec": {
   "display_name": "aiplanning",
   "language": "python",
   "name": "python3"
  },
  "language_info": {
   "codemirror_mode": {
    "name": "ipython",
    "version": 3
   },
   "file_extension": ".py",
   "mimetype": "text/x-python",
   "name": "python",
   "nbconvert_exporter": "python",
   "pygments_lexer": "ipython3",
   "version": "3.11.10"
  }
 },
 "nbformat": 4,
 "nbformat_minor": 2
}
