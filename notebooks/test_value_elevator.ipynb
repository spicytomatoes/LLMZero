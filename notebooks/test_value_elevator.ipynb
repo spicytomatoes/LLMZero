{
 "cells": [
  {
   "cell_type": "code",
   "execution_count": 1,
   "metadata": {},
   "outputs": [],
   "source": [
    "#enable autoreload\n",
    "%load_ext autoreload\n",
    "%autoreload 2"
   ]
  },
  {
   "cell_type": "code",
   "execution_count": 2,
   "metadata": {},
   "outputs": [
    {
     "name": "stderr",
     "output_type": "stream",
     "text": [
      "c:\\Users\\ianch\\miniconda3\\envs\\aiplanning\\Lib\\site-packages\\pyRDDLGym\\Elevator.py:8: UserWarning: cv2 is not installed: save_as_mp4 option will be disabled.\n",
      "  from pyRDDLGym.Visualizer.MovieGenerator import MovieGenerator\n",
      "c:\\Users\\ianch\\miniconda3\\envs\\aiplanning\\Lib\\site-packages\\sentence_transformers\\cross_encoder\\CrossEncoder.py:13: TqdmWarning: IProgress not found. Please update jupyter and ipywidgets. See https://ipywidgets.readthedocs.io/en/stable/user_install.html\n",
      "  from tqdm.autonotebook import tqdm, trange\n"
     ]
    }
   ],
   "source": [
    "import sys\n",
    "\n",
    "sys.path.append('..')\n",
    "\n",
    "from environments.ElevatorEnvironment import ElevatorEnvironment\n",
    "from agents.llmzero import LLMTransitionModel\n",
    "from agents.random_agent import RandomAgent\n",
    "from agents.elevator_expert import ElevatorExpertPolicyAgent\n",
    "\n",
    "import numpy as np\n",
    "import random\n",
    "import matplotlib.pyplot as plt"
   ]
  },
  {
   "cell_type": "code",
   "execution_count": 3,
   "metadata": {},
   "outputs": [
    {
     "name": "stdout",
     "output_type": "stream",
     "text": [
      "c:\\Users\\ianch\\miniconda3\\envs\\aiplanning\\Lib\\site-packages\\pyRDDLGym\\Examples c:\\Users\\ianch\\miniconda3\\envs\\aiplanning\\Lib\\site-packages\\pyRDDLGym\\Examples\\manifest.csv\n",
      "Available example environment(s):\n",
      "CartPole_continuous -> A simple continuous state-action MDP for the classical cart-pole system by Rich Sutton, with actions that describe the continuous force applied to the cart.\n",
      "CartPole_discrete -> A simple continuous state MDP for the classical cart-pole system by Rich Sutton, with discrete actions that apply a constant force on either the left or right side of the cart.\n",
      "Elevators -> The Elevator domain models evening rush hours when people from different floors in a building want to go down to the bottom floor using elevators.\n",
      "HVAC -> Multi-zone and multi-heater HVAC control problem\n",
      "MarsRover -> Multi Rover Navigation, where a group of agent needs to harvest mineral.\n",
      "MountainCar -> A simple continuous MDP for the classical mountain car control problem.\n",
      "NewLanguage -> Example with new language features.\n",
      "NewtonZero -> Example with Newton root-finding method.\n",
      "PowerGen_continuous -> A continuous simple power generation problem loosely modeled on the problem of unit commitment.\n",
      "PowerGen_discrete -> A simple power generation problem loosely modeled on the problem of unit commitment.\n",
      "PropDBN -> Simple propositional DBN.\n",
      "RaceCar -> A simple continuous MDP for the racecar problem.\n",
      "RecSim -> A problem of recommendation systems, with consumers and providers.\n",
      "Reservoir_continuous -> Continuous action version of management of the water level in interconnected reservoirs.\n",
      "Reservoir_discrete -> Discrete version of management of the water level in interconnected reservoirs.\n",
      "SupplyChain -> A supply chain with factory and multiple warehouses.\n",
      "SupplyChainNet -> A supply chain network with factory and multiple warehouses.\n",
      "Traffic -> BLX/QTM traffic model.\n",
      "UAV_continuous -> Continuous action space version of multi-UAV problem where a group of UAVs have to reach goal positions in the 3d Space.\n",
      "UAV_discrete -> Discrete action space version of multi-UAV problem where a group of UAVs have to reach goal positions in the 3d Space.\n",
      "UAV_mixed -> Mixed action space version of multi-UAV problem where a group of UAVs have to reach goal positions in the 3d Space.\n",
      "Wildfire -> A boolean version of the wildfire fighting domain.\n",
      "The building has 5 floors and 1 elevators. Each floor has maximum 3 people waiting. Each elevator can carry maximum of 10 people.\n"
     ]
    },
    {
     "name": "stderr",
     "output_type": "stream",
     "text": [
      "c:\\Users\\ianch\\miniconda3\\envs\\aiplanning\\Lib\\site-packages\\pyRDDLGym\\Core\\Env\\RDDLConstraints.py:85: UserWarning: Constraint does not have a structure of <action or state fluent> <op> <rhs>, where:\n",
      "<op> is one of {<=, <, >=, >}\n",
      "<rhs> is a deterministic function of non-fluents or constants only.\n",
      ">> ( sum_{?f: floor} [ elevator-at-floor(?e, ?f) ] ) == 1\n",
      "  warnings.warn(\n"
     ]
    }
   ],
   "source": [
    "env = ElevatorEnvironment()"
   ]
  },
  {
   "cell_type": "code",
   "execution_count": 4,
   "metadata": {},
   "outputs": [],
   "source": [
    "SEED = 117\n",
    "np.random.seed(SEED)\n",
    "random.seed(SEED)"
   ]
  },
  {
   "cell_type": "code",
   "execution_count": 7,
   "metadata": {},
   "outputs": [],
   "source": [
    "random_agent = RandomAgent(env, seed=SEED)\n",
    "expert_agent = ElevatorExpertPolicyAgent()"
   ]
  },
  {
   "cell_type": "code",
   "execution_count": null,
   "metadata": {},
   "outputs": [],
   "source": [
    "\n",
    "def estimate_value(state, gamma=0.9):\n",
    "    \"\"\"\n",
    "    Estimate the value of a state using a formula.\n",
    "    Estimate the total reward until the next delivery assuming no future arrivals.\n",
    "    Assume elevator is following a fix policy where it will move to the top floor and\n",
    "    pick up all passengers and deliver them to the first floor.\n",
    "    \"\"\"\n",
    "    \n",
    "    num_person_waiting = [None for _ in range(5)]\n",
    "    num_in_elavator = None\n",
    "    door_state = None\n",
    "    direction = None\n",
    "    current_floor = None\n",
    "    \n",
    "    for feature, value in state.items():\n",
    "        if \"num-person-waiting\" in feature:\n",
    "            num_person_waiting[int(feature[-1])] = value\n",
    "        if \"elevator-at-floor\" in feature and value == True:\n",
    "            current_floor = int(feature[-1]) + 1\n",
    "        if feature == \"elevator-dir-up___e0\":\n",
    "            direction = \"up\" if value == True else \"down\"\n",
    "        if feature == \"elevator-closed___e0\":\n",
    "            door_state = \"closed\" if value == True else \"open\"\n",
    "        if feature == \"num-person-in-elevator___e0\":\n",
    "            num_in_elavator = value\n",
    "            \n",
    "    delivered = num_in_elavator if current_floor == 1 else 0\n",
    "    num_in_elavator = 0 if current_floor == 1 else num_in_elavator\n",
    "    total_waiting = sum(num_person_waiting)\n",
    "    \n",
    "    # if no one waiting and no one in the elevator, return 0\n",
    "    if total_waiting == 0 and num_in_elavator == 0:\n",
    "        return 0\n",
    "    \n",
    "    reward = 30 * delivered - 3 * total_waiting - 0.75 * num_in_elavator\n",
    "    value = reward\n",
    "    \n",
    "    print(f\"current floor: {current_floor}, total waiting: {total_waiting}, num in elevator: {num_in_elavator}, value: {value}\")\n",
    "    \n",
    "    # base case if the elevator is at the first floor\n",
    "    if current_floor == 1:\n",
    "        return value\n",
    "    \n",
    "    steps = 1\n",
    "    \n",
    "    # moving up\n",
    "    if direction == \"up\":\n",
    "        top_floor = 1\n",
    "        for i in range(5):\n",
    "            if num_person_waiting[i] is not None:\n",
    "                top_floor = i + 1\n",
    "                \n",
    "        floors_to_go = top_floor - current_floor \n",
    "        \n",
    "        #reward unchanged while going up\n",
    "        for _ in range(floors_to_go):\n",
    "            value += reward * gamma ** steps\n",
    "            steps += 1\n",
    "            current_floor = current_floor + 1\n",
    "            print(f\"current floor: {current_floor}, total waiting: {total_waiting}, num in elevator: {num_in_elavator}, value: {value}\")\n",
    "            \n",
    "        \n",
    "            \n",
    "    # moving down, open, close and move if there are people waiting\n",
    "    while current_floor > 1:\n",
    "        #check if there are people waiting\n",
    "        if num_person_waiting[current_floor - 1] > 0:\n",
    "            #open door, people still waiting\n",
    "            value += reward * gamma ** steps\n",
    "            steps += 1\n",
    "            #close door, people already in the elevator\n",
    "            total_waiting -= num_person_waiting[current_floor - 1]\n",
    "            num_in_elavator += num_person_waiting[current_floor - 1]\n",
    "            num_in_elavator = max(10, num_in_elavator)\n",
    "            \n",
    "            reward = - 3 * total_waiting - 0.75 * num_in_elavator\n",
    "            value += reward * gamma ** steps\n",
    "            steps += 1\n",
    "        #move to the next floor\n",
    "        value += reward * gamma ** steps\n",
    "        steps += 1\n",
    "        \n",
    "        print(f\"current floor: {current_floor}, total waiting: {total_waiting}, num in elevator: {num_in_elavator}, value: {value}\")\n",
    "            \n",
    "        current_floor -= 1\n",
    "    \n",
    "    assert current_floor == 1\n",
    "        \n",
    "    # add delivery reward\n",
    "    reward = 30 * num_in_elavator - 3 * total_waiting\n",
    "    value += reward * gamma ** steps\n",
    "    \n",
    "    return value"
   ]
  },
  {
   "cell_type": "code",
   "execution_count": 65,
   "metadata": {},
   "outputs": [
    {
     "data": {
      "text/plain": [
       "{'num-person-waiting___f0': 0,\n",
       " 'num-person-waiting___f1': 1,\n",
       " 'num-person-waiting___f2': 2,\n",
       " 'num-person-waiting___f3': 0,\n",
       " 'num-person-waiting___f4': 1,\n",
       " 'num-person-in-elevator___e0': 2,\n",
       " 'elevator-dir-up___e0': False,\n",
       " 'elevator-closed___e0': True,\n",
       " 'elevator-at-floor___e0__f0': False,\n",
       " 'elevator-at-floor___e0__f1': False,\n",
       " 'elevator-at-floor___e0__f2': True,\n",
       " 'elevator-at-floor___e0__f3': False,\n",
       " 'elevator-at-floor___e0__f4': False}"
      ]
     },
     "execution_count": 65,
     "metadata": {},
     "output_type": "execute_result"
    }
   ],
   "source": [
    "state, _ = env.reset()\n",
    "\n",
    "for _ in range(10):\n",
    "    state, reward, done, _, _ = env.step(expert_agent.act(state))\n",
    "    \n",
    "state"
   ]
  },
  {
   "cell_type": "code",
   "execution_count": 66,
   "metadata": {},
   "outputs": [
    {
     "data": {
      "text/plain": [
       "{'num-person-waiting___f0': 0,\n",
       " 'num-person-waiting___f1': 2,\n",
       " 'num-person-waiting___f2': 0,\n",
       " 'num-person-waiting___f3': 0,\n",
       " 'num-person-waiting___f4': 2,\n",
       " 'num-person-in-elevator___e0': 0,\n",
       " 'elevator-dir-up___e0': True,\n",
       " 'elevator-closed___e0': True,\n",
       " 'elevator-at-floor___e0__f0': False,\n",
       " 'elevator-at-floor___e0__f1': False,\n",
       " 'elevator-at-floor___e0__f2': False,\n",
       " 'elevator-at-floor___e0__f3': True,\n",
       " 'elevator-at-floor___e0__f4': False}"
      ]
     },
     "execution_count": 66,
     "metadata": {},
     "output_type": "execute_result"
    }
   ],
   "source": [
    "for _ in range(10):\n",
    "    state, reward, done, _, _ = env.step(expert_agent.act(state))\n",
    "    \n",
    "state"
   ]
  },
  {
   "cell_type": "code",
   "execution_count": 75,
   "metadata": {},
   "outputs": [
    {
     "name": "stdout",
     "output_type": "stream",
     "text": [
      "current floor: 4, value: -12.0\n",
      "current floor: 5, value: -22.8\n",
      "current floor: 5, value: -51.21885\n",
      "current floor: 4, value: -59.190465\n",
      "current floor: 3, value: -66.3649185\n",
      "current floor: 2, value: -80.182915941\n"
     ]
    },
    {
     "data": {
      "text/plain": [
       "45.34132249500003"
      ]
     },
     "execution_count": 75,
     "metadata": {},
     "output_type": "execute_result"
    }
   ],
   "source": [
    "value = estimate_value(state)\n",
    "value"
   ]
  }
 ],
 "metadata": {
  "kernelspec": {
   "display_name": "aiplanning",
   "language": "python",
   "name": "python3"
  },
  "language_info": {
   "codemirror_mode": {
    "name": "ipython",
    "version": 3
   },
   "file_extension": ".py",
   "mimetype": "text/x-python",
   "name": "python",
   "nbconvert_exporter": "python",
   "pygments_lexer": "ipython3",
   "version": "3.11.10"
  }
 },
 "nbformat": 4,
 "nbformat_minor": 2
}
