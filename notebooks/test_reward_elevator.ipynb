{
 "cells": [
  {
   "cell_type": "code",
   "execution_count": 1,
   "metadata": {},
   "outputs": [],
   "source": [
    "import sys\n",
    "sys.path.append('..')"
   ]
  },
  {
   "cell_type": "code",
   "execution_count": 2,
   "metadata": {},
   "outputs": [],
   "source": [
    "%load_ext autoreload\n",
    "%autoreload 2"
   ]
  },
  {
   "cell_type": "code",
   "execution_count": 51,
   "metadata": {},
   "outputs": [
    {
     "name": "stdout",
     "output_type": "stream",
     "text": [
      "c:\\Users\\ianch\\miniconda3\\envs\\aiplanning\\Lib\\site-packages\\pyRDDLGym\\Examples c:\\Users\\ianch\\miniconda3\\envs\\aiplanning\\Lib\\site-packages\\pyRDDLGym\\Examples\\manifest.csv\n",
      "Available example environment(s):\n",
      "CartPole_continuous -> A simple continuous state-action MDP for the classical cart-pole system by Rich Sutton, with actions that describe the continuous force applied to the cart.\n",
      "CartPole_discrete -> A simple continuous state MDP for the classical cart-pole system by Rich Sutton, with discrete actions that apply a constant force on either the left or right side of the cart.\n",
      "Elevators -> The Elevator domain models evening rush hours when people from different floors in a building want to go down to the bottom floor using elevators.\n",
      "HVAC -> Multi-zone and multi-heater HVAC control problem\n",
      "MarsRover -> Multi Rover Navigation, where a group of agent needs to harvest mineral.\n",
      "MountainCar -> A simple continuous MDP for the classical mountain car control problem.\n",
      "NewLanguage -> Example with new language features.\n",
      "NewtonZero -> Example with Newton root-finding method.\n",
      "PowerGen_continuous -> A continuous simple power generation problem loosely modeled on the problem of unit commitment.\n",
      "PowerGen_discrete -> A simple power generation problem loosely modeled on the problem of unit commitment.\n",
      "PropDBN -> Simple propositional DBN.\n",
      "RaceCar -> A simple continuous MDP for the racecar problem.\n",
      "RecSim -> A problem of recommendation systems, with consumers and providers.\n",
      "Reservoir_continuous -> Continuous action version of management of the water level in interconnected reservoirs.\n",
      "Reservoir_discrete -> Discrete version of management of the water level in interconnected reservoirs.\n",
      "SupplyChain -> A supply chain with factory and multiple warehouses.\n",
      "SupplyChainNet -> A supply chain network with factory and multiple warehouses.\n",
      "Traffic -> BLX/QTM traffic model.\n",
      "UAV_continuous -> Continuous action space version of multi-UAV problem where a group of UAVs have to reach goal positions in the 3d Space.\n",
      "UAV_discrete -> Discrete action space version of multi-UAV problem where a group of UAVs have to reach goal positions in the 3d Space.\n",
      "UAV_mixed -> Mixed action space version of multi-UAV problem where a group of UAVs have to reach goal positions in the 3d Space.\n",
      "Wildfire -> A boolean version of the wildfire fighting domain.\n",
      "The building has 5 floors and 1 elevators. Each floor has maximum 3 people waiting. Each elevator can carry maximum of 10 people.\n"
     ]
    },
    {
     "name": "stderr",
     "output_type": "stream",
     "text": [
      "c:\\Users\\ianch\\miniconda3\\envs\\aiplanning\\Lib\\site-packages\\pyRDDLGym\\Core\\Env\\RDDLConstraints.py:85: UserWarning: Constraint does not have a structure of <action or state fluent> <op> <rhs>, where:\n",
      "<op> is one of {<=, <, >=, >}\n",
      "<rhs> is a deterministic function of non-fluents or constants only.\n",
      ">> ( sum_{?f: floor} [ elevator-at-floor(?e, ?f) ] ) == 1\n",
      "  warnings.warn(\n"
     ]
    }
   ],
   "source": [
    "import matplotlib.pyplot as plt\n",
    "import random\n",
    "import numpy as np\n",
    "from agents.elevator_expert import ElevatorExpertPolicyAgent\n",
    "from agents.random_agent import RandomAgent\n",
    "from agents.llmzero import LLMTransitionModel, LLMRewardModel\n",
    "from environments.ElevatorEnvironment import ElevatorEnvironment\n",
    "\n",
    "import os\n",
    "import dotenv\n",
    "dotenv.load_dotenv()\n",
    "\n",
    "env = ElevatorEnvironment()"
   ]
  },
  {
   "cell_type": "code",
   "execution_count": null,
   "metadata": {},
   "outputs": [
    {
     "name": "stdout",
     "output_type": "stream",
     "text": [
      "Loading prompt buffer from ../prompt_buffer/elevator_reward_20241110_014634.pkl\n"
     ]
    }
   ],
   "source": [
    "llmzero_reward_model = LLMRewardModel(\n",
    "    debug=False,\n",
    "    env_params={\n",
    "                    \"system_prompt_path\": \"../prompts/prompt_elevator_reward.txt\",\n",
    "                    \"extract_reward_regex\": r\"TOTAL_REWARD_FINAL = (.*)\\n\", # only use the first match, same line\n",
    "                    \"extract_reward_regex_fallback\": [r\"TOTAL_REWARD_FINAL = (.*)\\n\"],\n",
    "                    \"extract_done_regex\": r\"done: (.*)\",\n",
    "                    \"extract_done_regex_fallback\": [r\"done: (.*)\"],\n",
    "                },\n",
    "    load_prompt_buffer_path=\"../prompt_buffer/elevator_reward_20241110_030146.pkl\",\n",
    "    prompt_buffer_prefix=\"../prompt_buffer/elevator_reward\",\n",
    ")"
   ]
  },
  {
   "cell_type": "code",
   "execution_count": 20,
   "metadata": {},
   "outputs": [],
   "source": [
    "SEED = 117\n",
    "np.random.seed(SEED)\n",
    "random.seed(SEED)"
   ]
  },
  {
   "cell_type": "code",
   "execution_count": 21,
   "metadata": {},
   "outputs": [],
   "source": [
    "random_agent = RandomAgent(env, seed=SEED)\n",
    "expert_agent = ElevatorExpertPolicyAgent()\n",
    "\n",
    "# random agent\n",
    "state, _ = env.reset(SEED)\n",
    "done = False\n",
    "\n",
    "random_agent_trajectory = []\n",
    "\n",
    "while not done:\n",
    "    action = random_agent.act(state)\n",
    "    next_state, reward, done, _, _ = env.step(action)\n",
    "    random_agent_trajectory.append((state, action, reward, next_state, done))\n",
    "    state = next_state\n",
    "    \n",
    "# expert agent\n",
    "state, _ = env.reset(SEED + 1)  # use a different seed for the expert agent\n",
    "done = False\n",
    "\n",
    "expert_agent_trajectory = []\n",
    "\n",
    "while not done:\n",
    "    action = expert_agent.act(state)\n",
    "    next_state, reward, done, _, _ = env.step(action)\n",
    "    expert_agent_trajectory.append((state, action, reward, next_state, done))\n",
    "    state = next_state"
   ]
  },
  {
   "cell_type": "code",
   "execution_count": 22,
   "metadata": {},
   "outputs": [],
   "source": [
    "trajectories_combined = random_agent_trajectory + expert_agent_trajectory"
   ]
  },
  {
   "cell_type": "code",
   "execution_count": 23,
   "metadata": {},
   "outputs": [
    {
     "data": {
      "text/plain": [
       "'mistral-large-2407'"
      ]
     },
     "execution_count": 23,
     "metadata": {},
     "output_type": "execute_result"
    }
   ],
   "source": [
    "llmzero_reward_model.llm_model"
   ]
  },
  {
   "cell_type": "code",
   "execution_count": 38,
   "metadata": {},
   "outputs": [],
   "source": [
    "import tqdm\n",
    "\n",
    "def test_reward_model(model, trajectories):\n",
    "    gt_rewards = []\n",
    "    predicted_rewards = []\n",
    "    squared_errors = []\n",
    "    status_list = []\n",
    "    \n",
    "    pbar = tqdm.tqdm(trajectories)\n",
    "    \n",
    "    for trajectory in pbar:\n",
    "        state, action, reward, next_state, done = trajectory\n",
    "        \n",
    "        state_text = env.state_to_text(state)\n",
    "        action_text = env.action_to_text(action)\n",
    "        \n",
    "        predicted_reward, status = model.get_reward(state_text, action_text)\n",
    "        \n",
    "        gt_rewards.append(reward)\n",
    "        predicted_rewards.append(predicted_reward)\n",
    "        squared_errors.append((reward - predicted_reward) ** 2 / (reward + 1.0))\n",
    "        status_list.append(status)\n",
    "        \n",
    "        pbar.set_description(f\"Squared error: {np.mean(squared_errors)}\")\n",
    "        \n",
    "    return gt_rewards, predicted_rewards, status_list"
   ]
  },
  {
   "cell_type": "code",
   "execution_count": 39,
   "metadata": {},
   "outputs": [
    {
     "name": "stderr",
     "output_type": "stream",
     "text": [
      "Squared error: -85.31191656934811:  93%|█████████▎| 373/400 [01:27<00:15,  1.72it/s]   "
     ]
    },
    {
     "name": "stdout",
     "output_type": "stream",
     "text": [
      "Saving prompt buffer to ../prompt_buffer/elevator_reward_20241110_030146.pkl\n"
     ]
    },
    {
     "name": "stderr",
     "output_type": "stream",
     "text": [
      "Squared error: -84.79726751585723:  96%|█████████▋| 385/400 [03:49<01:57,  7.81s/it]"
     ]
    },
    {
     "name": "stdout",
     "output_type": "stream",
     "text": [
      "Saving prompt buffer to ../prompt_buffer/elevator_reward_20241110_030146.pkl\n"
     ]
    },
    {
     "name": "stderr",
     "output_type": "stream",
     "text": [
      "Squared error: -84.7487997451697:  99%|█████████▉| 395/400 [06:59<01:14, 14.97s/it] "
     ]
    },
    {
     "name": "stdout",
     "output_type": "stream",
     "text": [
      "Saving prompt buffer to ../prompt_buffer/elevator_reward_20241110_030146.pkl\n"
     ]
    },
    {
     "name": "stderr",
     "output_type": "stream",
     "text": [
      "Squared error: -83.89235540816588: 100%|██████████| 400/400 [07:43<00:00,  1.16s/it]\n"
     ]
    }
   ],
   "source": [
    "gt_rewards, predicted_rewards, status_list = test_reward_model(llmzero_reward_model, trajectories_combined)"
   ]
  },
  {
   "cell_type": "code",
   "execution_count": 48,
   "metadata": {},
   "outputs": [
    {
     "data": {
      "image/png": "[encoded data removed]",
      "text/plain": [
       "<Figure size 640x480 with 1 Axes>"
      ]
     },
     "metadata": {},
     "output_type": "display_data"
    }
   ],
   "source": [
    "#enable inline plotting\n",
    "%matplotlib inline\n",
    "\n",
    "#plot gt rewards - predicted rewards\n",
    "gt_rewards = np.array(gt_rewards)\n",
    "predicted_rewards = np.array(predicted_rewards)\n",
    "\n",
    "diff = gt_rewards - predicted_rewards\n",
    "\n",
    "plt.plot(diff)\n",
    "plt.title(\"GT rewards - predicted rewards\")\n",
    "plt.show()"
   ]
  },
  {
   "cell_type": "code",
   "execution_count": 50,
   "metadata": {},
   "outputs": [
    {
     "name": "stderr",
     "output_type": "stream",
     "text": [
      "[autoreload of agents.llmzero failed: Traceback (most recent call last):\n",
      "  File \"c:\\Users\\ianch\\miniconda3\\envs\\aiplanning\\Lib\\site-packages\\IPython\\extensions\\autoreload.py\", line 276, in check\n",
      "    superreload(m, reload, self.old_objects)\n",
      "  File \"c:\\Users\\ianch\\miniconda3\\envs\\aiplanning\\Lib\\site-packages\\IPython\\extensions\\autoreload.py\", line 500, in superreload\n",
      "    update_generic(old_obj, new_obj)\n",
      "  File \"c:\\Users\\ianch\\miniconda3\\envs\\aiplanning\\Lib\\site-packages\\IPython\\extensions\\autoreload.py\", line 397, in update_generic\n",
      "    update(a, b)\n",
      "  File \"c:\\Users\\ianch\\miniconda3\\envs\\aiplanning\\Lib\\site-packages\\IPython\\extensions\\autoreload.py\", line 349, in update_class\n",
      "    if update_generic(old_obj, new_obj):\n",
      "       ^^^^^^^^^^^^^^^^^^^^^^^^^^^^^^^^\n",
      "  File \"c:\\Users\\ianch\\miniconda3\\envs\\aiplanning\\Lib\\site-packages\\IPython\\extensions\\autoreload.py\", line 397, in update_generic\n",
      "    update(a, b)\n",
      "  File \"c:\\Users\\ianch\\miniconda3\\envs\\aiplanning\\Lib\\site-packages\\IPython\\extensions\\autoreload.py\", line 309, in update_function\n",
      "    setattr(old, name, getattr(new, name))\n",
      "ValueError: __init__() requires a code object with 0 free vars, not 1546188226561\n",
      "]\n"
     ]
    }
   ],
   "source": [
    "#find the max diff\n",
    "max_diff_idx = np.argmax(np.abs(diff))\n",
    "# find the trajectory where the max diff occurs\n",
    "max_diff_trajectory = trajectories_combined[max_diff_idx]\n",
    "\n",
    "state, action, reward, next_state, done = max_diff_trajectory\n",
    "\n",
    "state_text = env.state_to_text(state)\n",
    "action_text = env.action_to_text(action)\n",
    "\n",
    "llmzero_reward_model.debug = True\n",
    "predicted_reward, status = llmzero_reward_model.get_reward(state_text, action_text)"
   ]
  }
 ],
 "metadata": {
  "kernelspec": {
   "display_name": "aiplanning",
   "language": "python",
   "name": "python3"
  },
  "language_info": {
   "codemirror_mode": {
    "name": "ipython",
    "version": 3
   },
   "file_extension": ".py",
   "mimetype": "text/x-python",
   "name": "python",
   "nbconvert_exporter": "python",
   "pygments_lexer": "ipython3",
   "version": "3.11.10"
  }
 },
 "nbformat": 4,
 "nbformat_minor": 2
}
