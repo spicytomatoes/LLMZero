{
 "cells": [
  {
   "cell_type": "code",
   "execution_count": 1,
   "metadata": {},
   "outputs": [],
   "source": [
    "import os\n",
    "import time\n",
    "from dotenv import load_dotenv\n",
    "from openai import OpenAI\n",
    "\n",
    "load_dotenv()\n",
    "\n",
    "client = OpenAI(\n",
    "    base_url=os.getenv(\"CUSTOM_BASE_URL\"),\n",
    "    api_key=os.getenv(\"CUSTOM_API_KEY\")\n",
    ")"
   ]
  },
  {
   "cell_type": "markdown",
   "metadata": {},
   "source": []
  },
  {
   "cell_type": "code",
   "execution_count": 2,
   "metadata": {},
   "outputs": [],
   "source": [
    "def query_llm(system_prompt, user_prompt, model):\n",
    "    '''\n",
    "    Query the LLM with the user prompt\n",
    "    '''\n",
    "    messages = [{\"role\": \"system\", \"content\": system_prompt}, {\"role\": \"user\", \"content\": user_prompt}]\n",
    "    \n",
    "    while True:\n",
    "        try:\n",
    "            response = client.chat.completions.create(model=model, messages=messages)\n",
    "            break\n",
    "        except Exception as e:\n",
    "            print(f\"Error calling API: {e}, retrying...\")\n",
    "            time.sleep(1)\n",
    "    \n",
    "    # grab the content of the first choice (only one choice is returned)\n",
    "    return response.choices[0].message.content"
   ]
  },
  {
   "cell_type": "code",
   "execution_count": 25,
   "metadata": {},
   "outputs": [],
   "source": [
    "model = 'open-mixtral-8x22b'\n",
    "# model = 'mistral-large-2407'\n",
    "\n",
    "with open('prompts/prompt_alfworld_reward.txt', 'r') as f:\n",
    "    system_prompt = f.read()\n",
    "\n",
    "user_prompt = \"**State:**\\n\"\n",
    "user_prompt += \"You put the book 1 in/on the bed 1.\"\n",
    "user_prompt += \"\\n**Task:**\"\n",
    "user_prompt += \"put some book on bed.\"\n",
    "user_prompt += \"\\n\""
   ]
  },
  {
   "cell_type": "code",
   "execution_count": 26,
   "metadata": {},
   "outputs": [
    {
     "name": "stdout",
     "output_type": "stream",
     "text": [
      "TOTAL_REWARD_FINAL = 1\n"
     ]
    }
   ],
   "source": [
    "response = query_llm(system_prompt, user_prompt, model)\n",
    "print(response)"
   ]
  },
  {
   "cell_type": "markdown",
   "metadata": {},
   "source": []
  }
 ],
 "metadata": {
  "kernelspec": {
   "display_name": "venv",
   "language": "python",
   "name": "python3"
  },
  "language_info": {
   "codemirror_mode": {
    "name": "ipython",
    "version": 3
   },
   "file_extension": ".py",
   "mimetype": "text/x-python",
   "name": "python",
   "nbconvert_exporter": "python",
   "pygments_lexer": "ipython3",
   "version": "3.9.20"
  }
 },
 "nbformat": 4,
 "nbformat_minor": 2
}
